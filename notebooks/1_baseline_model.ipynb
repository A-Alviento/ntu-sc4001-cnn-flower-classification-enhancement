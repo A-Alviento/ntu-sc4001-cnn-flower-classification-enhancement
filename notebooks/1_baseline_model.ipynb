{
 "cells": [
  {
   "cell_type": "markdown",
   "metadata": {},
   "source": [
    "# Baseline Model"
   ]
  },
  {
   "cell_type": "code",
   "execution_count": 1,
   "metadata": {},
   "outputs": [],
   "source": [
    "import os\n",
    "os.environ['PYTORCH_ENABLE_MPS_FALLBACK'] = '1'\n",
    "os.chdir(\"../models\")\n",
    "\n",
    "import pickle\n",
    "import torch\n",
    "import torch.nn as nn\n",
    "import torchvision\n",
    "\n",
    "from common_utils import set_seed, EarlyStopper, train, get_mean_rgb, test_model\n",
    "from datetime import datetime\n",
    "from model import BaselineCNN\n",
    "from sklearn.metrics import top_k_accuracy_score, f1_score\n",
    "from torch.utils.data import DataLoader\n",
    "from torchvision import datasets, transforms"
   ]
  },
  {
   "cell_type": "markdown",
   "metadata": {},
   "source": [
    "### Set up variables, seed and pytorch device"
   ]
  },
  {
   "cell_type": "code",
   "execution_count": 2,
   "metadata": {},
   "outputs": [
    {
     "data": {
      "text/plain": [
       "(['BaselineCNN', 42], 'cuda')"
      ]
     },
     "execution_count": 2,
     "metadata": {},
     "output_type": "execute_result"
    }
   ],
   "source": [
    "# We might want to run the notebook with different parameters using a script\n",
    "# Use environment varables to set the parameters if thats the case\n",
    "defaults = {\n",
    "    \"model_name\": \"BaselineCNN\",\n",
    "    \"model_seed\": 42\n",
    "}\n",
    "for k, v in defaults.items():\n",
    "    globals()[k] = os.environ.get(k, defaults[k])\n",
    "    # Use default value type to infer the variable type\n",
    "    if isinstance(v, int):\n",
    "        globals()[k] = int(globals()[k])\n",
    "    elif isinstance(v, float):\n",
    "        globals()[k] = float(globals()[k])\n",
    "\n",
    "# set seed\n",
    "set_seed(model_seed)\n",
    "\n",
    "device_type = None\n",
    "device = None\n",
    "# determine device type\n",
    "if torch.cuda.is_available(): # nvidia gpu\n",
    "    device = torch.device(\"cuda\")\n",
    "    device_type = \"cuda\"\n",
    "elif torch.backends.mps.is_available(): # apple gpu\n",
    "    device = torch.device(\"mps\")\n",
    "    device_type = \"mps\"\n",
    "else:\n",
    "    device = torch.device(\"cpu\")\n",
    "    device_type = \"mps\"\n",
    "\n",
    "[globals()[k] for k in defaults.keys()], device_type"
   ]
  },
  {
   "cell_type": "markdown",
   "metadata": {},
   "source": [
    "### Initialise model"
   ]
  },
  {
   "cell_type": "code",
   "execution_count": 3,
   "metadata": {},
   "outputs": [],
   "source": [
    "model = BaselineCNN().to(device_type) # initialise model\n",
    "data_dir_path = \"../data\"\n",
    "\n",
    "# Make directory to save baseline model\n",
    "# Don't overwrite exisiting models and model outputs\n",
    "model_path = f\"./saved_models/{model_name}/\"\n",
    "if not os.path.exists(model_path):\n",
    "    os.makedirs(model_path, exist_ok=True)\n",
    "else:\n",
    "    raise Exception('''\n",
    "        Directory already exists. Either choose a different 'model_name' or\n",
    "        delete the exisiting directory.\n",
    "    ''')\n",
    "\n",
    "# Construct the full path\n",
    "device_path = os.path.join(model_path, device_type)\n",
    "\n",
    "# Create the directory if it doesn't exist\n",
    "if not os.path.exists(device_path):\n",
    "    os.mkdir(device_path)"
   ]
  },
  {
   "cell_type": "markdown",
   "metadata": {},
   "source": [
    "### Initialise Dataset"
   ]
  },
  {
   "cell_type": "code",
   "execution_count": 4,
   "metadata": {},
   "outputs": [],
   "source": [
    "data_path = \"../data\"\n",
    "mean_rgb = get_mean_rgb(datasets.Flowers102(root=data_dir_path,\n",
    "                                            split='test',\n",
    "                                            download=True,\n",
    "                                            transform=transforms.ToTensor()\n",
    "                                           ))\n",
    "batch_size = 128\n",
    "\n",
    "transform = transforms.Compose([\n",
    "    transforms.ToTensor(),\n",
    "    transforms.Resize((100, 100), antialias=True),\n",
    "    transforms.Normalize(mean=mean_rgb, std=[1,1,1])\n",
    "])\n",
    "\n",
    "# load data\n",
    "# NOTE: Due to a bug with the Flowers102 dataset, the train and test splits are swapped\n",
    "train_dataset = datasets.Flowers102(root=data_path,\n",
    "                                    split='test',\n",
    "                                    download=True,\n",
    "                                    transform=transform\n",
    "                                   ) \n",
    "val_dataset = datasets.Flowers102(root=data_path,\n",
    "                                  split='val',\n",
    "                                  download=True,\n",
    "                                  transform=transform\n",
    "                                 ) \n",
    "test_dataset = datasets.Flowers102(root=data_path,\n",
    "                                   split='train',\n",
    "                                   download=True,\n",
    "                                   transform=transform\n",
    "                                  )\n",
    "\n",
    "# initialise dataloaders\n",
    "train_dataloader = DataLoader(train_dataset, batch_size=batch_size, shuffle=True)\n",
    "val_dataloader = DataLoader(val_dataset, batch_size=batch_size, shuffle=False)\n",
    "test_dataloader = DataLoader(test_dataset, batch_size=1, shuffle=False)"
   ]
  },
  {
   "cell_type": "markdown",
   "metadata": {},
   "source": [
    "### Specify hyperparameters"
   ]
  },
  {
   "cell_type": "code",
   "execution_count": 5,
   "metadata": {},
   "outputs": [],
   "source": [
    "lr = 0.001 # learning rate\n",
    "optimiser = torch.optim.Adam(model.parameters(), lr=lr) # initialise optimiser\n",
    "loss = torch.nn.CrossEntropyLoss() # initialise loss function\n",
    "epochs = 100\n",
    "patience = 15\n",
    "\n",
    "early_stopper = EarlyStopper(patience=patience) # initialise early stopper"
   ]
  },
  {
   "cell_type": "markdown",
   "metadata": {},
   "source": [
    "### Train the model"
   ]
  },
  {
   "cell_type": "code",
   "execution_count": 6,
   "metadata": {
    "scrolled": true
   },
   "outputs": [
    {
     "name": "stderr",
     "output_type": "stream",
     "text": [
      "Epoch 1/100: 100%|██████████| 49/49 [00:31<00:00,  1.56it/s, Training loss=4.4886, Learning rate=0.00100]\n"
     ]
    },
    {
     "name": "stdout",
     "output_type": "stream",
     "text": [
      "Epoch 1/100 took 35.55s | Train loss: 4.4886 | Val loss: 4.8125 | Val accuracy: 0.98% | EarlyStopper count: 0\n"
     ]
    },
    {
     "name": "stderr",
     "output_type": "stream",
     "text": [
      "Epoch 2/100: 100%|██████████| 49/49 [00:30<00:00,  1.63it/s, Training loss=4.4310, Learning rate=0.00100]\n"
     ]
    },
    {
     "name": "stdout",
     "output_type": "stream",
     "text": [
      "Epoch 2/100 took 34.39s | Train loss: 4.4310 | Val loss: 4.6870 | Val accuracy: 0.98% | EarlyStopper count: 0\n"
     ]
    },
    {
     "name": "stderr",
     "output_type": "stream",
     "text": [
      "Epoch 3/100: 100%|██████████| 49/49 [00:29<00:00,  1.65it/s, Training loss=4.3053, Learning rate=0.00100]\n"
     ]
    },
    {
     "name": "stdout",
     "output_type": "stream",
     "text": [
      "Epoch 3/100 took 33.99s | Train loss: 4.3053 | Val loss: 4.6634 | Val accuracy: 1.86% | EarlyStopper count: 0\n"
     ]
    },
    {
     "name": "stderr",
     "output_type": "stream",
     "text": [
      "Epoch 4/100: 100%|██████████| 49/49 [00:30<00:00,  1.63it/s, Training loss=4.0512, Learning rate=0.00100]\n"
     ]
    },
    {
     "name": "stdout",
     "output_type": "stream",
     "text": [
      "Epoch 4/100 took 34.42s | Train loss: 4.0512 | Val loss: 4.4960 | Val accuracy: 1.86% | EarlyStopper count: 0\n"
     ]
    },
    {
     "name": "stderr",
     "output_type": "stream",
     "text": [
      "Epoch 5/100: 100%|██████████| 49/49 [00:30<00:00,  1.63it/s, Training loss=3.8975, Learning rate=0.00100]\n"
     ]
    },
    {
     "name": "stdout",
     "output_type": "stream",
     "text": [
      "Epoch 5/100 took 34.26s | Train loss: 3.8975 | Val loss: 4.1856 | Val accuracy: 3.04% | EarlyStopper count: 0\n"
     ]
    },
    {
     "name": "stderr",
     "output_type": "stream",
     "text": [
      "Epoch 6/100: 100%|██████████| 49/49 [00:29<00:00,  1.64it/s, Training loss=3.7525, Learning rate=0.00100]\n"
     ]
    },
    {
     "name": "stdout",
     "output_type": "stream",
     "text": [
      "Epoch 6/100 took 34.31s | Train loss: 3.7525 | Val loss: 4.0277 | Val accuracy: 5.78% | EarlyStopper count: 0\n"
     ]
    },
    {
     "name": "stderr",
     "output_type": "stream",
     "text": [
      "Epoch 7/100: 100%|██████████| 49/49 [00:29<00:00,  1.65it/s, Training loss=3.6143, Learning rate=0.00100]\n"
     ]
    },
    {
     "name": "stdout",
     "output_type": "stream",
     "text": [
      "Epoch 7/100 took 34.16s | Train loss: 3.6143 | Val loss: 3.9773 | Val accuracy: 4.71% | EarlyStopper count: 0\n"
     ]
    },
    {
     "name": "stderr",
     "output_type": "stream",
     "text": [
      "Epoch 8/100: 100%|██████████| 49/49 [00:30<00:00,  1.61it/s, Training loss=3.5070, Learning rate=0.00100]\n"
     ]
    },
    {
     "name": "stdout",
     "output_type": "stream",
     "text": [
      "Epoch 8/100 took 34.73s | Train loss: 3.5070 | Val loss: 3.7507 | Val accuracy: 9.02% | EarlyStopper count: 0\n"
     ]
    },
    {
     "name": "stderr",
     "output_type": "stream",
     "text": [
      "Epoch 9/100: 100%|██████████| 49/49 [00:29<00:00,  1.64it/s, Training loss=3.3166, Learning rate=0.00100]\n"
     ]
    },
    {
     "name": "stdout",
     "output_type": "stream",
     "text": [
      "Epoch 9/100 took 34.42s | Train loss: 3.3166 | Val loss: 3.5838 | Val accuracy: 10.20% | EarlyStopper count: 0\n"
     ]
    },
    {
     "name": "stderr",
     "output_type": "stream",
     "text": [
      "Epoch 10/100: 100%|██████████| 49/49 [00:30<00:00,  1.63it/s, Training loss=3.1953, Learning rate=0.00100]\n"
     ]
    },
    {
     "name": "stdout",
     "output_type": "stream",
     "text": [
      "Epoch 10/100 took 34.16s | Train loss: 3.1953 | Val loss: 3.3997 | Val accuracy: 13.73% | EarlyStopper count: 0\n"
     ]
    },
    {
     "name": "stderr",
     "output_type": "stream",
     "text": [
      "Epoch 11/100: 100%|██████████| 49/49 [00:29<00:00,  1.64it/s, Training loss=3.0431, Learning rate=0.00100]\n"
     ]
    },
    {
     "name": "stdout",
     "output_type": "stream",
     "text": [
      "Epoch 11/100 took 34.43s | Train loss: 3.0431 | Val loss: 3.3029 | Val accuracy: 14.31% | EarlyStopper count: 0\n"
     ]
    },
    {
     "name": "stderr",
     "output_type": "stream",
     "text": [
      "Epoch 12/100: 100%|██████████| 49/49 [00:30<00:00,  1.61it/s, Training loss=2.9347, Learning rate=0.00100]\n"
     ]
    },
    {
     "name": "stdout",
     "output_type": "stream",
     "text": [
      "Epoch 12/100 took 34.76s | Train loss: 2.9347 | Val loss: 3.1754 | Val accuracy: 17.84% | EarlyStopper count: 0\n"
     ]
    },
    {
     "name": "stderr",
     "output_type": "stream",
     "text": [
      "Epoch 13/100: 100%|██████████| 49/49 [00:30<00:00,  1.59it/s, Training loss=2.8628, Learning rate=0.00100]\n"
     ]
    },
    {
     "name": "stdout",
     "output_type": "stream",
     "text": [
      "Epoch 13/100 took 35.02s | Train loss: 2.8628 | Val loss: 3.0698 | Val accuracy: 19.80% | EarlyStopper count: 0\n"
     ]
    },
    {
     "name": "stderr",
     "output_type": "stream",
     "text": [
      "Epoch 14/100: 100%|██████████| 49/49 [00:30<00:00,  1.63it/s, Training loss=2.7300, Learning rate=0.00100]\n"
     ]
    },
    {
     "name": "stdout",
     "output_type": "stream",
     "text": [
      "Epoch 14/100 took 34.43s | Train loss: 2.7300 | Val loss: 2.8707 | Val accuracy: 24.02% | EarlyStopper count: 0\n"
     ]
    },
    {
     "name": "stderr",
     "output_type": "stream",
     "text": [
      "Epoch 15/100: 100%|██████████| 49/49 [00:29<00:00,  1.65it/s, Training loss=2.6037, Learning rate=0.00100]\n"
     ]
    },
    {
     "name": "stdout",
     "output_type": "stream",
     "text": [
      "Epoch 15/100 took 33.94s | Train loss: 2.6037 | Val loss: 2.8788 | Val accuracy: 23.04% | EarlyStopper count: 0\n"
     ]
    },
    {
     "name": "stderr",
     "output_type": "stream",
     "text": [
      "Epoch 16/100: 100%|██████████| 49/49 [00:29<00:00,  1.65it/s, Training loss=2.5323, Learning rate=0.00100]\n"
     ]
    },
    {
     "name": "stdout",
     "output_type": "stream",
     "text": [
      "Epoch 16/100 took 34.08s | Train loss: 2.5323 | Val loss: 2.8385 | Val accuracy: 23.82% | EarlyStopper count: 1\n"
     ]
    },
    {
     "name": "stderr",
     "output_type": "stream",
     "text": [
      "Epoch 17/100: 100%|██████████| 49/49 [00:29<00:00,  1.64it/s, Training loss=2.4178, Learning rate=0.00100]\n"
     ]
    },
    {
     "name": "stdout",
     "output_type": "stream",
     "text": [
      "Epoch 17/100 took 34.23s | Train loss: 2.4178 | Val loss: 2.7500 | Val accuracy: 26.47% | EarlyStopper count: 0\n"
     ]
    },
    {
     "name": "stderr",
     "output_type": "stream",
     "text": [
      "Epoch 18/100: 100%|██████████| 49/49 [00:29<00:00,  1.64it/s, Training loss=2.2855, Learning rate=0.00100]\n"
     ]
    },
    {
     "name": "stdout",
     "output_type": "stream",
     "text": [
      "Epoch 18/100 took 34.00s | Train loss: 2.2855 | Val loss: 2.6404 | Val accuracy: 29.80% | EarlyStopper count: 0\n"
     ]
    },
    {
     "name": "stderr",
     "output_type": "stream",
     "text": [
      "Epoch 19/100: 100%|██████████| 49/49 [00:29<00:00,  1.63it/s, Training loss=2.2252, Learning rate=0.00100]\n"
     ]
    },
    {
     "name": "stdout",
     "output_type": "stream",
     "text": [
      "Epoch 19/100 took 34.16s | Train loss: 2.2252 | Val loss: 2.6030 | Val accuracy: 31.67% | EarlyStopper count: 0\n"
     ]
    },
    {
     "name": "stderr",
     "output_type": "stream",
     "text": [
      "Epoch 20/100: 100%|██████████| 49/49 [00:29<00:00,  1.64it/s, Training loss=2.0938, Learning rate=0.00100]\n"
     ]
    },
    {
     "name": "stdout",
     "output_type": "stream",
     "text": [
      "Epoch 20/100 took 34.24s | Train loss: 2.0938 | Val loss: 2.6791 | Val accuracy: 29.80% | EarlyStopper count: 0\n"
     ]
    },
    {
     "name": "stderr",
     "output_type": "stream",
     "text": [
      "Epoch 21/100: 100%|██████████| 49/49 [00:29<00:00,  1.64it/s, Training loss=2.0732, Learning rate=0.00100]\n"
     ]
    },
    {
     "name": "stdout",
     "output_type": "stream",
     "text": [
      "Epoch 21/100 took 34.23s | Train loss: 2.0732 | Val loss: 2.5052 | Val accuracy: 36.76% | EarlyStopper count: 1\n"
     ]
    },
    {
     "name": "stderr",
     "output_type": "stream",
     "text": [
      "Epoch 22/100: 100%|██████████| 49/49 [00:30<00:00,  1.62it/s, Training loss=1.9484, Learning rate=0.00100]\n"
     ]
    },
    {
     "name": "stdout",
     "output_type": "stream",
     "text": [
      "Epoch 22/100 took 34.51s | Train loss: 1.9484 | Val loss: 2.6491 | Val accuracy: 33.82% | EarlyStopper count: 0\n"
     ]
    },
    {
     "name": "stderr",
     "output_type": "stream",
     "text": [
      "Epoch 23/100: 100%|██████████| 49/49 [00:30<00:00,  1.62it/s, Training loss=1.8437, Learning rate=0.00100]\n"
     ]
    },
    {
     "name": "stdout",
     "output_type": "stream",
     "text": [
      "Epoch 23/100 took 34.74s | Train loss: 1.8437 | Val loss: 2.3282 | Val accuracy: 39.02% | EarlyStopper count: 1\n"
     ]
    },
    {
     "name": "stderr",
     "output_type": "stream",
     "text": [
      "Epoch 24/100: 100%|██████████| 49/49 [00:29<00:00,  1.65it/s, Training loss=1.7207, Learning rate=0.00100]\n"
     ]
    },
    {
     "name": "stdout",
     "output_type": "stream",
     "text": [
      "Epoch 24/100 took 34.13s | Train loss: 1.7207 | Val loss: 2.3669 | Val accuracy: 38.92% | EarlyStopper count: 0\n"
     ]
    },
    {
     "name": "stderr",
     "output_type": "stream",
     "text": [
      "Epoch 25/100: 100%|██████████| 49/49 [00:30<00:00,  1.62it/s, Training loss=1.6309, Learning rate=0.00100]\n"
     ]
    },
    {
     "name": "stdout",
     "output_type": "stream",
     "text": [
      "Epoch 25/100 took 34.79s | Train loss: 1.6309 | Val loss: 2.4721 | Val accuracy: 37.94% | EarlyStopper count: 1\n"
     ]
    },
    {
     "name": "stderr",
     "output_type": "stream",
     "text": [
      "Epoch 26/100: 100%|██████████| 49/49 [00:30<00:00,  1.60it/s, Training loss=1.6260, Learning rate=0.00100]\n"
     ]
    },
    {
     "name": "stdout",
     "output_type": "stream",
     "text": [
      "Epoch 26/100 took 35.07s | Train loss: 1.6260 | Val loss: 2.2941 | Val accuracy: 40.98% | EarlyStopper count: 2\n"
     ]
    },
    {
     "name": "stderr",
     "output_type": "stream",
     "text": [
      "Epoch 27/100: 100%|██████████| 49/49 [00:30<00:00,  1.61it/s, Training loss=1.4652, Learning rate=0.00100]\n"
     ]
    },
    {
     "name": "stdout",
     "output_type": "stream",
     "text": [
      "Epoch 27/100 took 34.84s | Train loss: 1.4652 | Val loss: 2.3158 | Val accuracy: 43.63% | EarlyStopper count: 0\n"
     ]
    },
    {
     "name": "stderr",
     "output_type": "stream",
     "text": [
      "Epoch 28/100: 100%|██████████| 49/49 [00:29<00:00,  1.63it/s, Training loss=1.3313, Learning rate=0.00100]\n"
     ]
    },
    {
     "name": "stdout",
     "output_type": "stream",
     "text": [
      "Epoch 28/100 took 34.20s | Train loss: 1.3313 | Val loss: 2.1763 | Val accuracy: 45.69% | EarlyStopper count: 1\n"
     ]
    },
    {
     "name": "stderr",
     "output_type": "stream",
     "text": [
      "Epoch 29/100: 100%|██████████| 49/49 [00:29<00:00,  1.65it/s, Training loss=1.2482, Learning rate=0.00100]\n"
     ]
    },
    {
     "name": "stdout",
     "output_type": "stream",
     "text": [
      "Epoch 29/100 took 33.81s | Train loss: 1.2482 | Val loss: 2.3439 | Val accuracy: 43.24% | EarlyStopper count: 0\n"
     ]
    },
    {
     "name": "stderr",
     "output_type": "stream",
     "text": [
      "Epoch 30/100: 100%|██████████| 49/49 [00:29<00:00,  1.64it/s, Training loss=1.1683, Learning rate=0.00100]\n"
     ]
    },
    {
     "name": "stdout",
     "output_type": "stream",
     "text": [
      "Epoch 30/100 took 34.29s | Train loss: 1.1683 | Val loss: 2.4965 | Val accuracy: 43.33% | EarlyStopper count: 1\n"
     ]
    },
    {
     "name": "stderr",
     "output_type": "stream",
     "text": [
      "Epoch 31/100: 100%|██████████| 49/49 [00:30<00:00,  1.63it/s, Training loss=1.1639, Learning rate=0.00100]\n"
     ]
    },
    {
     "name": "stdout",
     "output_type": "stream",
     "text": [
      "Epoch 31/100 took 34.33s | Train loss: 1.1639 | Val loss: 2.3454 | Val accuracy: 44.02% | EarlyStopper count: 2\n"
     ]
    },
    {
     "name": "stderr",
     "output_type": "stream",
     "text": [
      "Epoch 32/100: 100%|██████████| 49/49 [00:29<00:00,  1.67it/s, Training loss=1.0910, Learning rate=0.00100]\n"
     ]
    },
    {
     "name": "stdout",
     "output_type": "stream",
     "text": [
      "Epoch 32/100 took 33.74s | Train loss: 1.0910 | Val loss: 2.4388 | Val accuracy: 46.57% | EarlyStopper count: 3\n"
     ]
    },
    {
     "name": "stderr",
     "output_type": "stream",
     "text": [
      "Epoch 33/100: 100%|██████████| 49/49 [00:30<00:00,  1.60it/s, Training loss=0.9882, Learning rate=0.00100]\n"
     ]
    },
    {
     "name": "stdout",
     "output_type": "stream",
     "text": [
      "Epoch 33/100 took 34.94s | Train loss: 0.9882 | Val loss: 2.5694 | Val accuracy: 40.78% | EarlyStopper count: 4\n"
     ]
    },
    {
     "name": "stderr",
     "output_type": "stream",
     "text": [
      "Epoch 34/100: 100%|██████████| 49/49 [00:30<00:00,  1.60it/s, Training loss=1.2106, Learning rate=0.00100]\n"
     ]
    },
    {
     "name": "stdout",
     "output_type": "stream",
     "text": [
      "Epoch 34/100 took 35.23s | Train loss: 1.2106 | Val loss: 2.3532 | Val accuracy: 45.49% | EarlyStopper count: 5\n"
     ]
    },
    {
     "name": "stderr",
     "output_type": "stream",
     "text": [
      "Epoch 35/100: 100%|██████████| 49/49 [00:31<00:00,  1.55it/s, Training loss=0.9595, Learning rate=0.00100]\n"
     ]
    },
    {
     "name": "stdout",
     "output_type": "stream",
     "text": [
      "Epoch 35/100 took 36.17s | Train loss: 0.9595 | Val loss: 2.5107 | Val accuracy: 46.86% | EarlyStopper count: 6\n"
     ]
    },
    {
     "name": "stderr",
     "output_type": "stream",
     "text": [
      "Epoch 36/100: 100%|██████████| 49/49 [00:30<00:00,  1.62it/s, Training loss=0.7915, Learning rate=0.00100]\n"
     ]
    },
    {
     "name": "stdout",
     "output_type": "stream",
     "text": [
      "Epoch 36/100 took 34.59s | Train loss: 0.7915 | Val loss: 2.4022 | Val accuracy: 47.35% | EarlyStopper count: 7\n"
     ]
    },
    {
     "name": "stderr",
     "output_type": "stream",
     "text": [
      "Epoch 37/100: 100%|██████████| 49/49 [00:31<00:00,  1.57it/s, Training loss=0.7668, Learning rate=0.00100]\n"
     ]
    },
    {
     "name": "stdout",
     "output_type": "stream",
     "text": [
      "Epoch 37/100 took 35.49s | Train loss: 0.7668 | Val loss: 2.4704 | Val accuracy: 45.10% | EarlyStopper count: 8\n"
     ]
    },
    {
     "name": "stderr",
     "output_type": "stream",
     "text": [
      "Epoch 38/100: 100%|██████████| 49/49 [00:30<00:00,  1.62it/s, Training loss=0.8297, Learning rate=0.00100]\n"
     ]
    },
    {
     "name": "stdout",
     "output_type": "stream",
     "text": [
      "Epoch 38/100 took 34.41s | Train loss: 0.8297 | Val loss: 2.3453 | Val accuracy: 48.82% | EarlyStopper count: 9\n"
     ]
    },
    {
     "name": "stderr",
     "output_type": "stream",
     "text": [
      "Epoch 39/100: 100%|██████████| 49/49 [00:30<00:00,  1.60it/s, Training loss=0.6023, Learning rate=0.00100]\n"
     ]
    },
    {
     "name": "stdout",
     "output_type": "stream",
     "text": [
      "Epoch 39/100 took 35.05s | Train loss: 0.6023 | Val loss: 2.6425 | Val accuracy: 47.55% | EarlyStopper count: 10\n"
     ]
    },
    {
     "name": "stderr",
     "output_type": "stream",
     "text": [
      "Epoch 40/100: 100%|██████████| 49/49 [00:30<00:00,  1.63it/s, Training loss=0.7038, Learning rate=0.00100]\n"
     ]
    },
    {
     "name": "stdout",
     "output_type": "stream",
     "text": [
      "Epoch 40/100 took 34.68s | Train loss: 0.7038 | Val loss: 2.5197 | Val accuracy: 49.90% | EarlyStopper count: 11\n"
     ]
    },
    {
     "name": "stderr",
     "output_type": "stream",
     "text": [
      "Epoch 41/100: 100%|██████████| 49/49 [00:30<00:00,  1.63it/s, Training loss=0.5588, Learning rate=0.00100]\n"
     ]
    },
    {
     "name": "stdout",
     "output_type": "stream",
     "text": [
      "Epoch 41/100 took 34.59s | Train loss: 0.5588 | Val loss: 2.6257 | Val accuracy: 49.51% | EarlyStopper count: 12\n"
     ]
    },
    {
     "name": "stderr",
     "output_type": "stream",
     "text": [
      "Epoch 42/100: 100%|██████████| 49/49 [00:30<00:00,  1.62it/s, Training loss=0.4529, Learning rate=0.00100]\n"
     ]
    },
    {
     "name": "stdout",
     "output_type": "stream",
     "text": [
      "Epoch 42/100 took 34.61s | Train loss: 0.4529 | Val loss: 2.6840 | Val accuracy: 48.04% | EarlyStopper count: 13\n"
     ]
    },
    {
     "name": "stderr",
     "output_type": "stream",
     "text": [
      "Epoch 43/100: 100%|██████████| 49/49 [00:30<00:00,  1.62it/s, Training loss=0.4269, Learning rate=0.00100]\n"
     ]
    },
    {
     "name": "stdout",
     "output_type": "stream",
     "text": [
      "Epoch 43/100 took 34.55s | Train loss: 0.4269 | Val loss: 2.8758 | Val accuracy: 47.16% | EarlyStopper count: 14\n",
      "Early stopping\n"
     ]
    }
   ],
   "source": [
    "out = train(model, train_dataloader, val_dataloader, optimiser,\n",
    "            loss, device, epochs, early_stopper, device_path\n",
    "           )\n",
    "train_loss_list, val_loss_list, val_acc_list, train_time_list, early_stop = out"
   ]
  },
  {
   "cell_type": "markdown",
   "metadata": {},
   "source": [
    "### Plot train, test loss and test accuracy\n",
    "Note that this is only to visualize how the training was. We will create nicer plots for the report."
   ]
  },
  {
   "cell_type": "code",
   "execution_count": 7,
   "metadata": {},
   "outputs": [
    {
     "data": {
      "image/png": "[encoded data removed]",
      "text/plain": [
       "<Figure size 640x480 with 1 Axes>"
      ]
     },
     "metadata": {},
     "output_type": "display_data"
    },
    {
     "data": {
      "image/png": "[encoded data removed]",
      "text/plain": [
       "<Figure size 640x480 with 1 Axes>"
      ]
     },
     "metadata": {},
     "output_type": "display_data"
    }
   ],
   "source": [
    "import matplotlib.pyplot as plt\n",
    "\n",
    "plt.plot(train_loss_list, label=\"train loss\")\n",
    "plt.plot(val_loss_list, label=\"val loss\")\n",
    "plt.xlabel(\"Epoch\")\n",
    "plt.ylabel(\"Loss\")\n",
    "plt.legend()\n",
    "plt.show()\n",
    "\n",
    "plt.plot(val_acc_list, label=\"val accuracy\")\n",
    "plt.xlabel(\"Epoch\")\n",
    "plt.ylabel(\"Accuracy\")\n",
    "plt.legend()\n",
    "\n",
    "plt.show()"
   ]
  },
  {
   "cell_type": "markdown",
   "metadata": {},
   "source": [
    "### Model Evaluation with test data"
   ]
  },
  {
   "cell_type": "code",
   "execution_count": 8,
   "metadata": {},
   "outputs": [
    {
     "data": {
      "text/plain": [
       "(0.4088235294117647, 0.7235294117647059, 0.4088235294117647)"
      ]
     },
     "execution_count": 8,
     "metadata": {},
     "output_type": "execute_result"
    }
   ],
   "source": [
    "checkpoint = torch.load(os.path.join(device_path, 'best_model.pt'))\n",
    "\n",
    "best_model = BaselineCNN().to(device_type)\n",
    "best_model.load_state_dict(checkpoint)\n",
    "\n",
    "true_labels = torch.stack([label for _, label in test_dataloader])\n",
    "pred_softmax_labels = test_model(best_model, test_dataloader, loss, device).cpu()\n",
    "pred_labels = torch.argmax(pred_softmax_labels, dim=1)\n",
    "\n",
    "top_1_accuracy = top_k_accuracy_score(true_labels, pred_softmax_labels, k=1)\n",
    "top_5_accuracy = top_k_accuracy_score(true_labels, pred_softmax_labels, k=5)\n",
    "f1 = f1_score(true_labels, pred_labels, average='micro')\n",
    "\n",
    "top_1_accuracy, top_5_accuracy, f1"
   ]
  },
  {
   "cell_type": "markdown",
   "metadata": {},
   "source": [
    "### Save all relevant data/parameters to be used for plots, etc\n",
    "Note that different models may have the same parameters. There's no guarantee that they can be accessible across different computers. There may also be some redundant parameters added just in case we might need them."
   ]
  },
  {
   "cell_type": "code",
   "execution_count": 9,
   "metadata": {},
   "outputs": [],
   "source": [
    "data = {\n",
    "    \"time_trained\": datetime.now().strftime(\"%D,%H:%M:%S\"),\n",
    "    \"model_name\": model_name,\n",
    "    \"model_seed\": model_seed,\n",
    "    \"device_type\": device_type,\n",
    "    \n",
    "    \"model\": model,\n",
    "    \"batch_size\": batch_size,\n",
    "    \"transform\": transform,\n",
    "    \n",
    "    \"lr\": lr,\n",
    "    \"epochs\": epochs,\n",
    "    \"patience\": patience,\n",
    "    \n",
    "    \"train_loss_list\": train_loss_list,\n",
    "    \"val_loss_list\": val_loss_list,\n",
    "    \"val_acc_list\": val_acc_list,\n",
    "    \"train_time_list\": train_time_list,\n",
    "    \"early_stop\": early_stop,   # Boolean for if early stopping happened\n",
    "\n",
    "    \"true_labels\": true_labels,\n",
    "    \"pred_softmax_labels\": pred_softmax_labels,\n",
    "    \"pred_labels\": pred_labels,\n",
    "    \"top_1_accuracy\": top_1_accuracy,\n",
    "    \"top_5_accuracy\": top_5_accuracy,\n",
    "    \"f1\": f1\n",
    "}\n",
    "\n",
    "with open(os.path.join(model_path, \"data.pickle\"), \"wb\") as f: \n",
    "    pickle.dump(data, f)"
   ]
  }
 ],
 "metadata": {
  "kernelspec": {
   "display_name": "Python 3 (ipykernel)",
   "language": "python",
   "name": "python3"
  },
  "language_info": {
   "codemirror_mode": {
    "name": "ipython",
    "version": 3
   },
   "file_extension": ".py",
   "mimetype": "text/x-python",
   "name": "python",
   "nbconvert_exporter": "python",
   "pygments_lexer": "ipython3",
   "version": "3.11.5"
  }
 },
 "nbformat": 4,
 "nbformat_minor": 4
}
