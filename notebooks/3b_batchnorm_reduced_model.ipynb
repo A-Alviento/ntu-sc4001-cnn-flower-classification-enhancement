{
 "cells": [
  {
   "cell_type": "markdown",
   "metadata": {},
   "source": [
    "# BatchNorm Reduced Model with moment = 0.05"
   ]
  },
  {
   "cell_type": "code",
   "execution_count": 1,
   "metadata": {},
   "outputs": [],
   "source": [
    "import os\n",
    "os.environ['PYTORCH_ENABLE_MPS_FALLBACK'] = '1'\n",
    "os.chdir(\"../models\")\n",
    "\n",
    "import pickle\n",
    "import torch\n",
    "import torch.nn as nn\n",
    "import torchvision\n",
    "\n",
    "from common_utils import set_seed, EarlyStopper, train, get_mean_rgb, test_model\n",
    "from datetime import datetime\n",
    "from model import BatchNormReducedCNN\n",
    "from sklearn.metrics import top_k_accuracy_score, f1_score\n",
    "from torch.utils.data import DataLoader\n",
    "from torchvision import datasets, transforms"
   ]
  },
  {
   "cell_type": "markdown",
   "metadata": {},
   "source": [
    "### Set up variables, seed and pytorch device"
   ]
  },
  {
   "cell_type": "code",
   "execution_count": 2,
   "metadata": {},
   "outputs": [
    {
     "data": {
      "text/plain": [
       "(['BatchNormReducedCNN5', 42, 0.05], 'cuda')"
      ]
     },
     "execution_count": 2,
     "metadata": {},
     "output_type": "execute_result"
    }
   ],
   "source": [
    "# We might want to run the notebook with different parameters using a script\n",
    "# Use environment varables to set the parameters if thats the case\n",
    "defaults = {\n",
    "    \"model_name\": \"BatchNormReducedCNN5\",\n",
    "    \"model_seed\": 42,\n",
    "    \"batchnorm_moment\": 0.05\n",
    "    \n",
    "}\n",
    "for k, v in defaults.items():\n",
    "    globals()[k] = os.environ.get(k, defaults[k])\n",
    "    # Use default value type to infer the variable type\n",
    "    if isinstance(v, int):\n",
    "        globals()[k] = int(globals()[k])\n",
    "    elif isinstance(v, float):\n",
    "        globals()[k] = float(globals()[k])\n",
    "\n",
    "# set seed\n",
    "set_seed(model_seed)\n",
    "\n",
    "device_type = None\n",
    "device = None\n",
    "# determine device type\n",
    "if torch.cuda.is_available(): # nvidia gpu\n",
    "    device = torch.device(\"cuda\")\n",
    "    device_type = \"cuda\"\n",
    "elif torch.backends.mps.is_available(): # apple gpu\n",
    "    device = torch.device(\"mps\")\n",
    "    device_type = \"mps\"\n",
    "else:\n",
    "    device = torch.device(\"cpu\")\n",
    "    device_type = \"mps\"\n",
    "\n",
    "[globals()[k] for k in defaults.keys()], device_type"
   ]
  },
  {
   "cell_type": "markdown",
   "metadata": {},
   "source": [
    "### Initialise model"
   ]
  },
  {
   "cell_type": "code",
   "execution_count": 3,
   "metadata": {},
   "outputs": [],
   "source": [
    "model = BatchNormReducedCNN(batchnorm_moment=batchnorm_moment).to(device_type) # initialise model\n",
    "data_dir_path = \"../data\"\n",
    "\n",
    "# Make directory to save baseline model\n",
    "# Don't overwrite exisiting models and model outputs\n",
    "model_path = f\"./saved_models/{model_name}/\"\n",
    "if not os.path.exists(model_path):\n",
    "    os.makedirs(model_path, exist_ok=True)\n",
    "else:\n",
    "    raise Exception('''\n",
    "        Directory already exists. Either choose a different 'model_name' or\n",
    "        delete the exisiting directory.\n",
    "    ''')\n",
    "\n",
    "# Construct the full path\n",
    "device_path = os.path.join(model_path, device_type)\n",
    "\n",
    "# Create the directory if it doesn't exist\n",
    "if not os.path.exists(device_path):\n",
    "    os.mkdir(device_path)"
   ]
  },
  {
   "cell_type": "markdown",
   "metadata": {},
   "source": [
    "### Initialise Dataset"
   ]
  },
  {
   "cell_type": "code",
   "execution_count": 4,
   "metadata": {},
   "outputs": [],
   "source": [
    "data_path = \"../data\"\n",
    "\n",
    "batch_size = 128\n",
    "\n",
    "transform = transforms.Compose([\n",
    "    transforms.ToTensor(),\n",
    "    transforms.Resize((100, 100), antialias=True),\n",
    "])\n",
    "\n",
    "# load data\n",
    "# NOTE: Due to a bug with the Flowers102 dataset, the train and test splits are swapped\n",
    "train_dataset = datasets.Flowers102(root=data_path,\n",
    "                                    split='test',\n",
    "                                    download=True,\n",
    "                                    transform=transform\n",
    "                                   ) \n",
    "val_dataset = datasets.Flowers102(root=data_path,\n",
    "                                  split='val',\n",
    "                                  download=True,\n",
    "                                  transform=transform\n",
    "                                 ) \n",
    "test_dataset = datasets.Flowers102(root=data_path,\n",
    "                                   split='train',\n",
    "                                   download=True,\n",
    "                                   transform=transform\n",
    "                                  )\n",
    "\n",
    "# initialise dataloaders\n",
    "train_dataloader = DataLoader(train_dataset, batch_size=batch_size, shuffle=True)\n",
    "val_dataloader = DataLoader(val_dataset, batch_size=batch_size, shuffle=False)\n",
    "test_dataloader = DataLoader(test_dataset, batch_size=1, shuffle=False)"
   ]
  },
  {
   "cell_type": "markdown",
   "metadata": {},
   "source": [
    "### Specify hyperparameters"
   ]
  },
  {
   "cell_type": "code",
   "execution_count": 5,
   "metadata": {},
   "outputs": [],
   "source": [
    "lr = 0.001 # learning rate\n",
    "optimiser = torch.optim.Adam(model.parameters(), lr=lr) # initialise optimiser\n",
    "loss = torch.nn.CrossEntropyLoss() # initialise loss function\n",
    "epochs = 100\n",
    "patience = 15\n",
    "\n",
    "early_stopper = EarlyStopper(patience=patience) # initialise early stopper"
   ]
  },
  {
   "cell_type": "markdown",
   "metadata": {},
   "source": [
    "### Train the model"
   ]
  },
  {
   "cell_type": "code",
   "execution_count": 6,
   "metadata": {
    "scrolled": true
   },
   "outputs": [
    {
     "name": "stderr",
     "output_type": "stream",
     "text": [
      "Epoch 1/100: 100%|██████████| 49/49 [00:31<00:00,  1.57it/s, Training loss=4.3681, Learning rate=0.00100]\n"
     ]
    },
    {
     "name": "stdout",
     "output_type": "stream",
     "text": [
      "Epoch 1/100 took 35.32s | Train loss: 4.3681 | Val loss: 4.3896 | Val accuracy: 4.12% | EarlyStopper count: 0\n"
     ]
    },
    {
     "name": "stderr",
     "output_type": "stream",
     "text": [
      "Epoch 2/100: 100%|██████████| 49/49 [00:28<00:00,  1.72it/s, Training loss=3.7291, Learning rate=0.00100]\n"
     ]
    },
    {
     "name": "stdout",
     "output_type": "stream",
     "text": [
      "Epoch 2/100 took 32.43s | Train loss: 3.7291 | Val loss: 4.0541 | Val accuracy: 6.37% | EarlyStopper count: 0\n"
     ]
    },
    {
     "name": "stderr",
     "output_type": "stream",
     "text": [
      "Epoch 3/100: 100%|██████████| 49/49 [00:28<00:00,  1.71it/s, Training loss=3.5329, Learning rate=0.00100]\n"
     ]
    },
    {
     "name": "stdout",
     "output_type": "stream",
     "text": [
      "Epoch 3/100 took 32.88s | Train loss: 3.5329 | Val loss: 9.0615 | Val accuracy: 1.86% | EarlyStopper count: 0\n"
     ]
    },
    {
     "name": "stderr",
     "output_type": "stream",
     "text": [
      "Epoch 4/100: 100%|██████████| 49/49 [00:28<00:00,  1.71it/s, Training loss=3.4526, Learning rate=0.00100]\n"
     ]
    },
    {
     "name": "stdout",
     "output_type": "stream",
     "text": [
      "Epoch 4/100 took 32.64s | Train loss: 3.4526 | Val loss: 3.6420 | Val accuracy: 8.92% | EarlyStopper count: 1\n"
     ]
    },
    {
     "name": "stderr",
     "output_type": "stream",
     "text": [
      "Epoch 5/100: 100%|██████████| 49/49 [00:28<00:00,  1.71it/s, Training loss=3.1832, Learning rate=0.00100]\n"
     ]
    },
    {
     "name": "stdout",
     "output_type": "stream",
     "text": [
      "Epoch 5/100 took 32.62s | Train loss: 3.1832 | Val loss: 3.4982 | Val accuracy: 9.90% | EarlyStopper count: 0\n"
     ]
    },
    {
     "name": "stderr",
     "output_type": "stream",
     "text": [
      "Epoch 6/100: 100%|██████████| 49/49 [00:28<00:00,  1.72it/s, Training loss=3.0994, Learning rate=0.00100]\n"
     ]
    },
    {
     "name": "stdout",
     "output_type": "stream",
     "text": [
      "Epoch 6/100 took 32.48s | Train loss: 3.0994 | Val loss: 3.4372 | Val accuracy: 12.84% | EarlyStopper count: 0\n"
     ]
    },
    {
     "name": "stderr",
     "output_type": "stream",
     "text": [
      "Epoch 7/100: 100%|██████████| 49/49 [00:28<00:00,  1.71it/s, Training loss=2.9681, Learning rate=0.00100]\n"
     ]
    },
    {
     "name": "stdout",
     "output_type": "stream",
     "text": [
      "Epoch 7/100 took 32.58s | Train loss: 2.9681 | Val loss: 3.2344 | Val accuracy: 15.10% | EarlyStopper count: 0\n"
     ]
    },
    {
     "name": "stderr",
     "output_type": "stream",
     "text": [
      "Epoch 8/100: 100%|██████████| 49/49 [00:28<00:00,  1.73it/s, Training loss=2.8241, Learning rate=0.00100]\n"
     ]
    },
    {
     "name": "stdout",
     "output_type": "stream",
     "text": [
      "Epoch 8/100 took 32.32s | Train loss: 2.8241 | Val loss: 3.0693 | Val accuracy: 20.00% | EarlyStopper count: 0\n"
     ]
    },
    {
     "name": "stderr",
     "output_type": "stream",
     "text": [
      "Epoch 9/100: 100%|██████████| 49/49 [00:28<00:00,  1.71it/s, Training loss=2.7419, Learning rate=0.00100]\n"
     ]
    },
    {
     "name": "stdout",
     "output_type": "stream",
     "text": [
      "Epoch 9/100 took 32.76s | Train loss: 2.7419 | Val loss: 3.1696 | Val accuracy: 19.41% | EarlyStopper count: 0\n"
     ]
    },
    {
     "name": "stderr",
     "output_type": "stream",
     "text": [
      "Epoch 10/100: 100%|██████████| 49/49 [00:28<00:00,  1.69it/s, Training loss=2.6174, Learning rate=0.00100]\n"
     ]
    },
    {
     "name": "stdout",
     "output_type": "stream",
     "text": [
      "Epoch 10/100 took 32.92s | Train loss: 2.6174 | Val loss: 2.8385 | Val accuracy: 25.10% | EarlyStopper count: 1\n"
     ]
    },
    {
     "name": "stderr",
     "output_type": "stream",
     "text": [
      "Epoch 11/100: 100%|██████████| 49/49 [00:29<00:00,  1.67it/s, Training loss=2.5013, Learning rate=0.00100]\n"
     ]
    },
    {
     "name": "stdout",
     "output_type": "stream",
     "text": [
      "Epoch 11/100 took 33.57s | Train loss: 2.5013 | Val loss: 2.7942 | Val accuracy: 24.51% | EarlyStopper count: 0\n"
     ]
    },
    {
     "name": "stderr",
     "output_type": "stream",
     "text": [
      "Epoch 12/100: 100%|██████████| 49/49 [00:29<00:00,  1.67it/s, Training loss=2.3554, Learning rate=0.00100]\n"
     ]
    },
    {
     "name": "stdout",
     "output_type": "stream",
     "text": [
      "Epoch 12/100 took 33.41s | Train loss: 2.3554 | Val loss: 2.5525 | Val accuracy: 29.61% | EarlyStopper count: 0\n"
     ]
    },
    {
     "name": "stderr",
     "output_type": "stream",
     "text": [
      "Epoch 13/100: 100%|██████████| 49/49 [00:29<00:00,  1.68it/s, Training loss=2.2268, Learning rate=0.00100]\n"
     ]
    },
    {
     "name": "stdout",
     "output_type": "stream",
     "text": [
      "Epoch 13/100 took 33.43s | Train loss: 2.2268 | Val loss: 2.7526 | Val accuracy: 28.24% | EarlyStopper count: 0\n"
     ]
    },
    {
     "name": "stderr",
     "output_type": "stream",
     "text": [
      "Epoch 14/100: 100%|██████████| 49/49 [00:30<00:00,  1.62it/s, Training loss=2.1262, Learning rate=0.00100]\n"
     ]
    },
    {
     "name": "stdout",
     "output_type": "stream",
     "text": [
      "Epoch 14/100 took 34.26s | Train loss: 2.1262 | Val loss: 2.3685 | Val accuracy: 33.33% | EarlyStopper count: 1\n"
     ]
    },
    {
     "name": "stderr",
     "output_type": "stream",
     "text": [
      "Epoch 15/100: 100%|██████████| 49/49 [00:28<00:00,  1.70it/s, Training loss=2.0018, Learning rate=0.00100]\n"
     ]
    },
    {
     "name": "stdout",
     "output_type": "stream",
     "text": [
      "Epoch 15/100 took 32.86s | Train loss: 2.0018 | Val loss: 2.4055 | Val accuracy: 32.94% | EarlyStopper count: 0\n"
     ]
    },
    {
     "name": "stderr",
     "output_type": "stream",
     "text": [
      "Epoch 16/100: 100%|██████████| 49/49 [00:28<00:00,  1.71it/s, Training loss=1.9618, Learning rate=0.00100]\n"
     ]
    },
    {
     "name": "stdout",
     "output_type": "stream",
     "text": [
      "Epoch 16/100 took 32.63s | Train loss: 1.9618 | Val loss: 2.4881 | Val accuracy: 33.53% | EarlyStopper count: 1\n"
     ]
    },
    {
     "name": "stderr",
     "output_type": "stream",
     "text": [
      "Epoch 17/100: 100%|██████████| 49/49 [00:28<00:00,  1.71it/s, Training loss=1.8483, Learning rate=0.00100]\n"
     ]
    },
    {
     "name": "stdout",
     "output_type": "stream",
     "text": [
      "Epoch 17/100 took 32.73s | Train loss: 1.8483 | Val loss: 2.3106 | Val accuracy: 38.43% | EarlyStopper count: 2\n"
     ]
    },
    {
     "name": "stderr",
     "output_type": "stream",
     "text": [
      "Epoch 18/100: 100%|██████████| 49/49 [00:28<00:00,  1.72it/s, Training loss=1.9161, Learning rate=0.00100]\n"
     ]
    },
    {
     "name": "stdout",
     "output_type": "stream",
     "text": [
      "Epoch 18/100 took 32.45s | Train loss: 1.9161 | Val loss: 2.1655 | Val accuracy: 41.76% | EarlyStopper count: 0\n"
     ]
    },
    {
     "name": "stderr",
     "output_type": "stream",
     "text": [
      "Epoch 19/100: 100%|██████████| 49/49 [00:28<00:00,  1.70it/s, Training loss=1.6873, Learning rate=0.00100]\n"
     ]
    },
    {
     "name": "stdout",
     "output_type": "stream",
     "text": [
      "Epoch 19/100 took 32.86s | Train loss: 1.6873 | Val loss: 2.0237 | Val accuracy: 42.25% | EarlyStopper count: 0\n"
     ]
    },
    {
     "name": "stderr",
     "output_type": "stream",
     "text": [
      "Epoch 20/100: 100%|██████████| 49/49 [00:28<00:00,  1.74it/s, Training loss=1.5923, Learning rate=0.00100]\n"
     ]
    },
    {
     "name": "stdout",
     "output_type": "stream",
     "text": [
      "Epoch 20/100 took 32.19s | Train loss: 1.5923 | Val loss: 2.0396 | Val accuracy: 44.02% | EarlyStopper count: 0\n"
     ]
    },
    {
     "name": "stderr",
     "output_type": "stream",
     "text": [
      "Epoch 21/100: 100%|██████████| 49/49 [00:28<00:00,  1.74it/s, Training loss=1.5417, Learning rate=0.00100]\n"
     ]
    },
    {
     "name": "stdout",
     "output_type": "stream",
     "text": [
      "Epoch 21/100 took 32.17s | Train loss: 1.5417 | Val loss: 1.9931 | Val accuracy: 43.82% | EarlyStopper count: 1\n"
     ]
    },
    {
     "name": "stderr",
     "output_type": "stream",
     "text": [
      "Epoch 22/100: 100%|██████████| 49/49 [00:28<00:00,  1.72it/s, Training loss=1.4510, Learning rate=0.00100]\n"
     ]
    },
    {
     "name": "stdout",
     "output_type": "stream",
     "text": [
      "Epoch 22/100 took 32.41s | Train loss: 1.4510 | Val loss: 1.7419 | Val accuracy: 51.96% | EarlyStopper count: 0\n"
     ]
    },
    {
     "name": "stderr",
     "output_type": "stream",
     "text": [
      "Epoch 23/100: 100%|██████████| 49/49 [00:28<00:00,  1.72it/s, Training loss=1.4007, Learning rate=0.00100]\n"
     ]
    },
    {
     "name": "stdout",
     "output_type": "stream",
     "text": [
      "Epoch 23/100 took 32.39s | Train loss: 1.4007 | Val loss: 1.8706 | Val accuracy: 47.16% | EarlyStopper count: 0\n"
     ]
    },
    {
     "name": "stderr",
     "output_type": "stream",
     "text": [
      "Epoch 24/100: 100%|██████████| 49/49 [00:28<00:00,  1.72it/s, Training loss=1.2975, Learning rate=0.00100]\n"
     ]
    },
    {
     "name": "stdout",
     "output_type": "stream",
     "text": [
      "Epoch 24/100 took 32.44s | Train loss: 1.2975 | Val loss: 1.7481 | Val accuracy: 50.10% | EarlyStopper count: 1\n"
     ]
    },
    {
     "name": "stderr",
     "output_type": "stream",
     "text": [
      "Epoch 25/100: 100%|██████████| 49/49 [00:28<00:00,  1.72it/s, Training loss=1.2611, Learning rate=0.00100]\n"
     ]
    },
    {
     "name": "stdout",
     "output_type": "stream",
     "text": [
      "Epoch 25/100 took 32.42s | Train loss: 1.2611 | Val loss: 1.7123 | Val accuracy: 53.53% | EarlyStopper count: 2\n"
     ]
    },
    {
     "name": "stderr",
     "output_type": "stream",
     "text": [
      "Epoch 26/100: 100%|██████████| 49/49 [00:29<00:00,  1.68it/s, Training loss=1.1894, Learning rate=0.00100]\n"
     ]
    },
    {
     "name": "stdout",
     "output_type": "stream",
     "text": [
      "Epoch 26/100 took 33.08s | Train loss: 1.1894 | Val loss: 1.7505 | Val accuracy: 51.67% | EarlyStopper count: 0\n"
     ]
    },
    {
     "name": "stderr",
     "output_type": "stream",
     "text": [
      "Epoch 27/100: 100%|██████████| 49/49 [00:28<00:00,  1.72it/s, Training loss=1.0755, Learning rate=0.00100]\n"
     ]
    },
    {
     "name": "stdout",
     "output_type": "stream",
     "text": [
      "Epoch 27/100 took 32.47s | Train loss: 1.0755 | Val loss: 1.6245 | Val accuracy: 55.49% | EarlyStopper count: 1\n"
     ]
    },
    {
     "name": "stderr",
     "output_type": "stream",
     "text": [
      "Epoch 28/100: 100%|██████████| 49/49 [00:28<00:00,  1.70it/s, Training loss=1.0136, Learning rate=0.00100]\n"
     ]
    },
    {
     "name": "stdout",
     "output_type": "stream",
     "text": [
      "Epoch 28/100 took 32.76s | Train loss: 1.0136 | Val loss: 1.6274 | Val accuracy: 55.78% | EarlyStopper count: 0\n"
     ]
    },
    {
     "name": "stderr",
     "output_type": "stream",
     "text": [
      "Epoch 29/100: 100%|██████████| 49/49 [00:28<00:00,  1.70it/s, Training loss=0.9916, Learning rate=0.00100]\n"
     ]
    },
    {
     "name": "stdout",
     "output_type": "stream",
     "text": [
      "Epoch 29/100 took 32.84s | Train loss: 0.9916 | Val loss: 1.5750 | Val accuracy: 55.59% | EarlyStopper count: 1\n"
     ]
    },
    {
     "name": "stderr",
     "output_type": "stream",
     "text": [
      "Epoch 30/100: 100%|██████████| 49/49 [00:28<00:00,  1.71it/s, Training loss=1.0118, Learning rate=0.00100]\n"
     ]
    },
    {
     "name": "stdout",
     "output_type": "stream",
     "text": [
      "Epoch 30/100 took 32.67s | Train loss: 1.0118 | Val loss: 1.6451 | Val accuracy: 54.61% | EarlyStopper count: 0\n"
     ]
    },
    {
     "name": "stderr",
     "output_type": "stream",
     "text": [
      "Epoch 31/100: 100%|██████████| 49/49 [00:28<00:00,  1.72it/s, Training loss=0.8359, Learning rate=0.00100]\n"
     ]
    },
    {
     "name": "stdout",
     "output_type": "stream",
     "text": [
      "Epoch 31/100 took 32.60s | Train loss: 0.8359 | Val loss: 1.5642 | Val accuracy: 56.96% | EarlyStopper count: 1\n"
     ]
    },
    {
     "name": "stderr",
     "output_type": "stream",
     "text": [
      "Epoch 32/100: 100%|██████████| 49/49 [00:28<00:00,  1.72it/s, Training loss=0.8323, Learning rate=0.00100]\n"
     ]
    },
    {
     "name": "stdout",
     "output_type": "stream",
     "text": [
      "Epoch 32/100 took 32.50s | Train loss: 0.8323 | Val loss: 1.4907 | Val accuracy: 59.02% | EarlyStopper count: 0\n"
     ]
    },
    {
     "name": "stderr",
     "output_type": "stream",
     "text": [
      "Epoch 33/100: 100%|██████████| 49/49 [00:28<00:00,  1.69it/s, Training loss=2.5765, Learning rate=0.00100]\n"
     ]
    },
    {
     "name": "stdout",
     "output_type": "stream",
     "text": [
      "Epoch 33/100 took 32.87s | Train loss: 2.5765 | Val loss: 2.3960 | Val accuracy: 38.43% | EarlyStopper count: 0\n"
     ]
    },
    {
     "name": "stderr",
     "output_type": "stream",
     "text": [
      "Epoch 34/100: 100%|██████████| 49/49 [00:28<00:00,  1.72it/s, Training loss=1.5271, Learning rate=0.00100]\n"
     ]
    },
    {
     "name": "stdout",
     "output_type": "stream",
     "text": [
      "Epoch 34/100 took 32.65s | Train loss: 1.5271 | Val loss: 2.0273 | Val accuracy: 45.78% | EarlyStopper count: 1\n"
     ]
    },
    {
     "name": "stderr",
     "output_type": "stream",
     "text": [
      "Epoch 35/100: 100%|██████████| 49/49 [00:28<00:00,  1.72it/s, Training loss=2.4611, Learning rate=0.00100]\n"
     ]
    },
    {
     "name": "stdout",
     "output_type": "stream",
     "text": [
      "Epoch 35/100 took 32.62s | Train loss: 2.4611 | Val loss: 2.4888 | Val accuracy: 37.06% | EarlyStopper count: 2\n"
     ]
    },
    {
     "name": "stderr",
     "output_type": "stream",
     "text": [
      "Epoch 36/100: 100%|██████████| 49/49 [00:28<00:00,  1.72it/s, Training loss=1.7206, Learning rate=0.00100]\n"
     ]
    },
    {
     "name": "stdout",
     "output_type": "stream",
     "text": [
      "Epoch 36/100 took 32.47s | Train loss: 1.7206 | Val loss: 1.9001 | Val accuracy: 49.22% | EarlyStopper count: 3\n"
     ]
    },
    {
     "name": "stderr",
     "output_type": "stream",
     "text": [
      "Epoch 37/100: 100%|██████████| 49/49 [00:28<00:00,  1.70it/s, Training loss=1.3713, Learning rate=0.00100]\n"
     ]
    },
    {
     "name": "stdout",
     "output_type": "stream",
     "text": [
      "Epoch 37/100 took 32.88s | Train loss: 1.3713 | Val loss: 1.7844 | Val accuracy: 50.88% | EarlyStopper count: 4\n"
     ]
    },
    {
     "name": "stderr",
     "output_type": "stream",
     "text": [
      "Epoch 38/100: 100%|██████████| 49/49 [00:28<00:00,  1.71it/s, Training loss=1.1660, Learning rate=0.00100]\n"
     ]
    },
    {
     "name": "stdout",
     "output_type": "stream",
     "text": [
      "Epoch 38/100 took 32.65s | Train loss: 1.1660 | Val loss: 4.0701 | Val accuracy: 19.31% | EarlyStopper count: 5\n"
     ]
    },
    {
     "name": "stderr",
     "output_type": "stream",
     "text": [
      "Epoch 39/100: 100%|██████████| 49/49 [00:28<00:00,  1.70it/s, Training loss=3.6494, Learning rate=0.00100]\n"
     ]
    },
    {
     "name": "stdout",
     "output_type": "stream",
     "text": [
      "Epoch 39/100 took 32.78s | Train loss: 3.6494 | Val loss: 2.7680 | Val accuracy: 28.63% | EarlyStopper count: 6\n"
     ]
    },
    {
     "name": "stderr",
     "output_type": "stream",
     "text": [
      "Epoch 40/100: 100%|██████████| 49/49 [00:28<00:00,  1.72it/s, Training loss=2.5775, Learning rate=0.00100]\n"
     ]
    },
    {
     "name": "stdout",
     "output_type": "stream",
     "text": [
      "Epoch 40/100 took 32.69s | Train loss: 2.5775 | Val loss: 2.3354 | Val accuracy: 38.53% | EarlyStopper count: 7\n"
     ]
    },
    {
     "name": "stderr",
     "output_type": "stream",
     "text": [
      "Epoch 41/100: 100%|██████████| 49/49 [00:29<00:00,  1.68it/s, Training loss=1.9935, Learning rate=0.00100]\n"
     ]
    },
    {
     "name": "stdout",
     "output_type": "stream",
     "text": [
      "Epoch 41/100 took 32.91s | Train loss: 1.9935 | Val loss: 2.1318 | Val accuracy: 43.24% | EarlyStopper count: 8\n"
     ]
    },
    {
     "name": "stderr",
     "output_type": "stream",
     "text": [
      "Epoch 42/100: 100%|██████████| 49/49 [00:28<00:00,  1.72it/s, Training loss=1.6927, Learning rate=0.00100]\n"
     ]
    },
    {
     "name": "stdout",
     "output_type": "stream",
     "text": [
      "Epoch 42/100 took 32.57s | Train loss: 1.6927 | Val loss: 1.9674 | Val accuracy: 45.59% | EarlyStopper count: 9\n"
     ]
    },
    {
     "name": "stderr",
     "output_type": "stream",
     "text": [
      "Epoch 43/100: 100%|██████████| 49/49 [00:28<00:00,  1.71it/s, Training loss=1.6525, Learning rate=0.00100]\n"
     ]
    },
    {
     "name": "stdout",
     "output_type": "stream",
     "text": [
      "Epoch 43/100 took 32.78s | Train loss: 1.6525 | Val loss: 7.7881 | Val accuracy: 6.67% | EarlyStopper count: 10\n"
     ]
    },
    {
     "name": "stderr",
     "output_type": "stream",
     "text": [
      "Epoch 44/100: 100%|██████████| 49/49 [00:28<00:00,  1.71it/s, Training loss=3.3471, Learning rate=0.00100]\n"
     ]
    },
    {
     "name": "stdout",
     "output_type": "stream",
     "text": [
      "Epoch 44/100 took 32.68s | Train loss: 3.3471 | Val loss: 2.7061 | Val accuracy: 28.33% | EarlyStopper count: 11\n"
     ]
    },
    {
     "name": "stderr",
     "output_type": "stream",
     "text": [
      "Epoch 45/100: 100%|██████████| 49/49 [00:28<00:00,  1.71it/s, Training loss=3.2889, Learning rate=0.00100]\n"
     ]
    },
    {
     "name": "stdout",
     "output_type": "stream",
     "text": [
      "Epoch 45/100 took 32.91s | Train loss: 3.2889 | Val loss: 4.7598 | Val accuracy: 4.22% | EarlyStopper count: 12\n"
     ]
    },
    {
     "name": "stderr",
     "output_type": "stream",
     "text": [
      "Epoch 46/100: 100%|██████████| 49/49 [00:28<00:00,  1.72it/s, Training loss=3.7276, Learning rate=0.00100]\n"
     ]
    },
    {
     "name": "stdout",
     "output_type": "stream",
     "text": [
      "Epoch 46/100 took 32.47s | Train loss: 3.7276 | Val loss: 3.4600 | Val accuracy: 13.63% | EarlyStopper count: 13\n"
     ]
    },
    {
     "name": "stderr",
     "output_type": "stream",
     "text": [
      "Epoch 47/100: 100%|██████████| 49/49 [00:28<00:00,  1.70it/s, Training loss=3.3385, Learning rate=0.00100]\n"
     ]
    },
    {
     "name": "stdout",
     "output_type": "stream",
     "text": [
      "Epoch 47/100 took 32.87s | Train loss: 3.3385 | Val loss: 3.1801 | Val accuracy: 18.92% | EarlyStopper count: 14\n",
      "Early stopping\n"
     ]
    }
   ],
   "source": [
    "out = train(model, train_dataloader, val_dataloader, optimiser,\n",
    "            loss, device, epochs, early_stopper, device_path\n",
    "           )\n",
    "train_loss_list, val_loss_list, val_acc_list, train_time_list, lr_list, early_stop = out"
   ]
  },
  {
   "cell_type": "markdown",
   "metadata": {},
   "source": [
    "### Plot train, test loss and test accuracy\n",
    "Note that this is only to visualize how the training was. We will create nicer plots for the report."
   ]
  },
  {
   "cell_type": "code",
   "execution_count": 7,
   "metadata": {},
   "outputs": [
    {
     "data": {
      "image/png": "[encoded data removed]",
      "text/plain": [
       "<Figure size 640x480 with 1 Axes>"
      ]
     },
     "metadata": {},
     "output_type": "display_data"
    },
    {
     "data": {
      "image/png": "[encoded data removed]",
      "text/plain": [
       "<Figure size 640x480 with 1 Axes>"
      ]
     },
     "metadata": {},
     "output_type": "display_data"
    }
   ],
   "source": [
    "import matplotlib.pyplot as plt\n",
    "\n",
    "plt.plot(train_loss_list, label=\"train loss\")\n",
    "plt.plot(val_loss_list, label=\"val loss\")\n",
    "plt.xlabel(\"Epoch\")\n",
    "plt.ylabel(\"Loss\")\n",
    "plt.legend()\n",
    "plt.show()\n",
    "\n",
    "plt.plot(val_acc_list, label=\"val accuracy\")\n",
    "plt.xlabel(\"Epoch\")\n",
    "plt.ylabel(\"Accuracy\")\n",
    "plt.legend()\n",
    "\n",
    "plt.show()"
   ]
  },
  {
   "cell_type": "markdown",
   "metadata": {},
   "source": [
    "### Model Evaluation with test data"
   ]
  },
  {
   "cell_type": "code",
   "execution_count": 8,
   "metadata": {},
   "outputs": [
    {
     "data": {
      "text/plain": [
       "(0.5784313725490197, 0.8313725490196079, 0.5784313725490197)"
      ]
     },
     "execution_count": 8,
     "metadata": {},
     "output_type": "execute_result"
    }
   ],
   "source": [
    "checkpoint = torch.load(os.path.join(device_path, 'best_model.pt'))\n",
    "\n",
    "best_model = BatchNormReducedCNN().to(device_type)\n",
    "best_model.load_state_dict(checkpoint)\n",
    "\n",
    "true_labels = torch.stack([label for _, label in test_dataloader])\n",
    "pred_softmax_labels = test_model(best_model, test_dataloader, loss, device).cpu()\n",
    "pred_labels = torch.argmax(pred_softmax_labels, dim=1)\n",
    "\n",
    "top_1_accuracy = top_k_accuracy_score(true_labels, pred_softmax_labels, k=1)\n",
    "top_5_accuracy = top_k_accuracy_score(true_labels, pred_softmax_labels, k=5)\n",
    "f1 = f1_score(true_labels, pred_labels, average='micro')\n",
    "\n",
    "top_1_accuracy, top_5_accuracy, f1"
   ]
  },
  {
   "cell_type": "markdown",
   "metadata": {},
   "source": [
    "### Save all relevant data/parameters to be used for plots, etc\n",
    "Note that different models may have the same parameters. There's no guarantee that they can be accessible across different computers. There may also be some redundant parameters added just in case we might need them."
   ]
  },
  {
   "cell_type": "code",
   "execution_count": 9,
   "metadata": {},
   "outputs": [],
   "source": [
    "data = {\n",
    "    \"time_trained\": datetime.now().strftime(\"%D,%H:%M:%S\"),\n",
    "    \"model_name\": model_name,\n",
    "    \"model_seed\": model_seed,\n",
    "    \"device_type\": device_type,\n",
    "    \n",
    "    \"model\": model,\n",
    "    \"batch_size\": batch_size,\n",
    "    \"transform\": transform,\n",
    "    \n",
    "    \"lr\": lr,\n",
    "    \"epochs\": epochs,\n",
    "    \"patience\": patience,\n",
    "    \n",
    "    \"train_loss_list\": train_loss_list,\n",
    "    \"val_loss_list\": val_loss_list,\n",
    "    \"val_acc_list\": val_acc_list,\n",
    "    \"train_time_list\": train_time_list,\n",
    "    \"early_stop\": early_stop,   # Boolean for if early stopping happened\n",
    "\n",
    "    \"true_labels\": true_labels,\n",
    "    \"pred_softmax_labels\": pred_softmax_labels,\n",
    "    \"pred_labels\": pred_labels,\n",
    "    \"top_1_accuracy\": top_1_accuracy,\n",
    "    \"top_5_accuracy\": top_5_accuracy,\n",
    "    \"f1\": f1,\n",
    "\n",
    "    \"batchnorm_moment\": batchnorm_moment\n",
    "}\n",
    "\n",
    "with open(os.path.join(model_path, \"data.pickle\"), \"wb\") as f: \n",
    "    pickle.dump(data, f)"
   ]
  }
 ],
 "metadata": {
  "kernelspec": {
   "display_name": "Python 3 (ipykernel)",
   "language": "python",
   "name": "python3"
  },
  "language_info": {
   "codemirror_mode": {
    "name": "ipython",
    "version": 3
   },
   "file_extension": ".py",
   "mimetype": "text/x-python",
   "name": "python",
   "nbconvert_exporter": "python",
   "pygments_lexer": "ipython3",
   "version": "3.11.5"
  }
 },
 "nbformat": 4,
 "nbformat_minor": 4
}
