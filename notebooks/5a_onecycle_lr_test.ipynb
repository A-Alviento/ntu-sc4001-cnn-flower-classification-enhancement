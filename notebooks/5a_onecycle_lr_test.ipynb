{
 "cells": [
  {
   "cell_type": "markdown",
   "id": "6e7c08a0-7fc1-4e0f-a8b8-77343017ff3e",
   "metadata": {},
   "source": [
    "### First we will find the best learning rate for one cycle, as proposed in the original paper"
   ]
  },
  {
   "cell_type": "code",
   "execution_count": 1,
   "id": "500b8961-2e1b-479d-adb0-fd75776b00a2",
   "metadata": {},
   "outputs": [
    {
     "data": {
      "text/plain": [
       "'cuda'"
      ]
     },
     "execution_count": 1,
     "metadata": {},
     "output_type": "execute_result"
    }
   ],
   "source": [
    "import os\n",
    "os.environ['PYTORCH_ENABLE_MPS_FALLBACK'] = '1'\n",
    "os.chdir(\"../models\")\n",
    "\n",
    "import pickle\n",
    "import torch\n",
    "import torch.nn as nn\n",
    "import torchvision\n",
    "\n",
    "from common_utils import set_seed, EarlyStopper, train, get_mean_rgb, test_model\n",
    "from datetime import datetime\n",
    "from model import DepthPointWiseCNN\n",
    "from sklearn.metrics import top_k_accuracy_score, f1_score\n",
    "from torch.utils.data import DataLoader\n",
    "from torchvision import datasets, transforms\n",
    "\n",
    "model_name = \"OneCycleLRTest\"\n",
    "model_seed = 42\n",
    "batchnorm_moment = 0.05\n",
    "\n",
    "# set seed\n",
    "set_seed(model_seed)\n",
    "\n",
    "device_type = None\n",
    "device = None\n",
    "# determine device type\n",
    "if torch.cuda.is_available(): # nvidia gpu\n",
    "    device = torch.device(\"cuda\")\n",
    "    device_type = \"cuda\"\n",
    "elif torch.backends.mps.is_available(): # apple gpu\n",
    "    device = torch.device(\"mps\")\n",
    "    device_type = \"mps\"\n",
    "else:\n",
    "    device = torch.device(\"cpu\")\n",
    "    device_type = \"mps\"\n",
    "\n",
    "device_type"
   ]
  },
  {
   "cell_type": "markdown",
   "id": "4bd8d551-4986-4965-aef8-ed8b7b6d0afc",
   "metadata": {},
   "source": [
    "### Initialise model"
   ]
  },
  {
   "cell_type": "code",
   "execution_count": 2,
   "id": "a32032d1-a43e-40e8-bcc6-207b8a6dce10",
   "metadata": {},
   "outputs": [],
   "source": [
    "model = DepthPointWiseCNN(batchnorm_moment=batchnorm_moment).to(device_type) # initialise model\n",
    "data_dir_path = \"../data\"\n",
    "\n",
    "# Make directory to save baseline model\n",
    "# Don't overwrite exisiting models and model outputs\n",
    "model_path = f\"./saved_models/{model_name}/\"\n",
    "if not os.path.exists(model_path):\n",
    "    os.makedirs(model_path, exist_ok=True)\n",
    "else:\n",
    "    raise Exception('''\n",
    "        Directory already exists. Either choose a different 'model_name' or\n",
    "        delete the exisiting directory.\n",
    "    ''')\n",
    "\n",
    "# Construct the full path\n",
    "device_path = os.path.join(model_path, device_type)\n",
    "\n",
    "# Create the directory if it doesn't exist\n",
    "if not os.path.exists(device_path):\n",
    "    os.mkdir(device_path)"
   ]
  },
  {
   "cell_type": "markdown",
   "id": "445bcb69-a8a8-4ada-b4aa-2788cea697d7",
   "metadata": {},
   "source": [
    "### Initialise Dataset"
   ]
  },
  {
   "cell_type": "code",
   "execution_count": 3,
   "id": "e8772ad6-5e98-49b8-9199-e23063cf99bb",
   "metadata": {},
   "outputs": [],
   "source": [
    "data_path = \"../data\"\n",
    "\n",
    "batch_size = 128\n",
    "\n",
    "transform = transforms.Compose([\n",
    "    transforms.ToTensor(),\n",
    "    transforms.Resize((100, 100), antialias=True),\n",
    "])\n",
    "\n",
    "# load data\n",
    "# NOTE: Due to a bug with the Flowers102 dataset, the train and test splits are swapped\n",
    "train_dataset = datasets.Flowers102(root=data_path,\n",
    "                                    split='test',\n",
    "                                    download=True,\n",
    "                                    transform=transform\n",
    "                                   ) \n",
    "val_dataset = datasets.Flowers102(root=data_path,\n",
    "                                  split='val',\n",
    "                                  download=True,\n",
    "                                  transform=transform\n",
    "                                 )\n",
    "\n",
    "# initialise dataloaders\n",
    "train_dataloader = DataLoader(train_dataset, batch_size=batch_size, shuffle=True)\n",
    "val_dataloader = DataLoader(val_dataset, batch_size=batch_size, shuffle=False)"
   ]
  },
  {
   "cell_type": "code",
   "execution_count": 4,
   "id": "a0fd2baa-b65d-4016-8794-ac3b137d57a6",
   "metadata": {},
   "outputs": [
    {
     "data": {
      "text/plain": [
       "Dataset Flowers102\n",
       "    Number of datapoints: 1020\n",
       "    Root location: ../data\n",
       "    split=val\n",
       "    StandardTransform\n",
       "Transform: Compose(\n",
       "               ToTensor()\n",
       "               Resize(size=(100, 100), interpolation=bilinear, max_size=None, antialias=True)\n",
       "           )"
      ]
     },
     "execution_count": 4,
     "metadata": {},
     "output_type": "execute_result"
    }
   ],
   "source": [
    "val_dataset"
   ]
  },
  {
   "cell_type": "markdown",
   "id": "2837c207-3243-45c5-9b45-c850913a8594",
   "metadata": {},
   "source": [
    "### Specify hyperparameters\n",
    "#### The loss will be incremented for every minibatch, untill it explodes."
   ]
  },
  {
   "cell_type": "code",
   "execution_count": 11,
   "id": "78263736-869a-4274-a7ed-1ad41fd134a1",
   "metadata": {},
   "outputs": [],
   "source": [
    "class AdamWrapper(torch.optim.Adam):\n",
    "    def __init__(self, lr_step, *args, **kwargs):\n",
    "        super().__init__(*args, **kwargs)\n",
    "        self.init_lr = kwargs[\"lr\"]\n",
    "        self.lr_step = lr_step\n",
    "\n",
    "    def step(self, *args, **kwargs):\n",
    "        for g in self.param_groups:\n",
    "            g['lr'] = self.init_lr\n",
    "\n",
    "        super().step(*args, **kwargs)\n",
    "        self.init_lr += self.lr_step\n",
    "    \n",
    "lr = 0.0001 # learning rate\n",
    "lr_step = lr / 50\n",
    "optimiser = AdamWrapper(lr_step, model.parameters(), lr=lr) # initialise optimiser\n",
    "loss = torch.nn.CrossEntropyLoss() # initialise loss function\n",
    "epochs = 100\n",
    "patience = 10\n",
    "\n",
    "early_stopper = EarlyStopper(patience=patience) # initialise early stopper"
   ]
  },
  {
   "cell_type": "markdown",
   "id": "64351edb-1fe0-4655-a2b0-a5a5c668160b",
   "metadata": {},
   "source": [
    "### Train the model"
   ]
  },
  {
   "cell_type": "code",
   "execution_count": 12,
   "id": "7a5abea5-6f81-4e2c-a658-61c1a83e8eed",
   "metadata": {},
   "outputs": [
    {
     "name": "stderr",
     "output_type": "stream",
     "text": [
      "Epoch 1/100: 100%|██████████| 49/49 [00:27<00:00,  1.79it/s, Training loss=0.4796, Learning rate=0.00020]\n"
     ]
    },
    {
     "name": "stdout",
     "output_type": "stream",
     "text": [
      "Epoch 1/100 took 31.32s | Train loss: 0.4796 | Val loss: 1.5943 | Val accuracy: 59.12% | EarlyStopper count: 0\n"
     ]
    },
    {
     "name": "stderr",
     "output_type": "stream",
     "text": [
      "Epoch 2/100: 100%|██████████| 49/49 [00:27<00:00,  1.79it/s, Training loss=0.3033, Learning rate=0.00029]\n"
     ]
    },
    {
     "name": "stdout",
     "output_type": "stream",
     "text": [
      "Epoch 2/100 took 31.40s | Train loss: 0.3033 | Val loss: 1.5752 | Val accuracy: 60.69% | EarlyStopper count: 0\n"
     ]
    },
    {
     "name": "stderr",
     "output_type": "stream",
     "text": [
      "Epoch 3/100: 100%|██████████| 49/49 [00:27<00:00,  1.80it/s, Training loss=0.2615, Learning rate=0.00039]\n"
     ]
    },
    {
     "name": "stdout",
     "output_type": "stream",
     "text": [
      "Epoch 3/100 took 31.27s | Train loss: 0.2615 | Val loss: 1.5436 | Val accuracy: 61.67% | EarlyStopper count: 0\n"
     ]
    },
    {
     "name": "stderr",
     "output_type": "stream",
     "text": [
      "Epoch 4/100: 100%|██████████| 49/49 [00:26<00:00,  1.83it/s, Training loss=0.2066, Learning rate=0.00049]\n"
     ]
    },
    {
     "name": "stdout",
     "output_type": "stream",
     "text": [
      "Epoch 4/100 took 30.64s | Train loss: 0.2066 | Val loss: 1.5509 | Val accuracy: 60.10% | EarlyStopper count: 0\n"
     ]
    },
    {
     "name": "stderr",
     "output_type": "stream",
     "text": [
      "Epoch 5/100: 100%|██████████| 49/49 [00:27<00:00,  1.78it/s, Training loss=0.1965, Learning rate=0.00059]\n"
     ]
    },
    {
     "name": "stdout",
     "output_type": "stream",
     "text": [
      "Epoch 5/100 took 31.42s | Train loss: 0.1965 | Val loss: 1.5493 | Val accuracy: 62.16% | EarlyStopper count: 1\n"
     ]
    },
    {
     "name": "stderr",
     "output_type": "stream",
     "text": [
      "Epoch 6/100: 100%|██████████| 49/49 [00:26<00:00,  1.82it/s, Training loss=0.1732, Learning rate=0.00069]\n"
     ]
    },
    {
     "name": "stdout",
     "output_type": "stream",
     "text": [
      "Epoch 6/100 took 30.84s | Train loss: 0.1732 | Val loss: 1.5641 | Val accuracy: 62.35% | EarlyStopper count: 2\n"
     ]
    },
    {
     "name": "stderr",
     "output_type": "stream",
     "text": [
      "Epoch 7/100: 100%|██████████| 49/49 [00:26<00:00,  1.84it/s, Training loss=0.1576, Learning rate=0.00078]\n"
     ]
    },
    {
     "name": "stdout",
     "output_type": "stream",
     "text": [
      "Epoch 7/100 took 30.55s | Train loss: 0.1576 | Val loss: 1.5948 | Val accuracy: 60.29% | EarlyStopper count: 3\n"
     ]
    },
    {
     "name": "stderr",
     "output_type": "stream",
     "text": [
      "Epoch 8/100: 100%|██████████| 49/49 [00:26<00:00,  1.82it/s, Training loss=0.1351, Learning rate=0.00088]\n"
     ]
    },
    {
     "name": "stdout",
     "output_type": "stream",
     "text": [
      "Epoch 8/100 took 30.86s | Train loss: 0.1351 | Val loss: 1.5745 | Val accuracy: 61.47% | EarlyStopper count: 4\n"
     ]
    },
    {
     "name": "stderr",
     "output_type": "stream",
     "text": [
      "Epoch 9/100: 100%|██████████| 49/49 [00:27<00:00,  1.80it/s, Training loss=0.1351, Learning rate=0.00098]\n"
     ]
    },
    {
     "name": "stdout",
     "output_type": "stream",
     "text": [
      "Epoch 9/100 took 31.13s | Train loss: 0.1351 | Val loss: 1.5888 | Val accuracy: 61.76% | EarlyStopper count: 5\n"
     ]
    },
    {
     "name": "stderr",
     "output_type": "stream",
     "text": [
      "Epoch 10/100: 100%|██████████| 49/49 [00:27<00:00,  1.81it/s, Training loss=0.1283, Learning rate=0.00108]\n"
     ]
    },
    {
     "name": "stdout",
     "output_type": "stream",
     "text": [
      "Epoch 10/100 took 31.03s | Train loss: 0.1283 | Val loss: 1.5902 | Val accuracy: 62.65% | EarlyStopper count: 6\n"
     ]
    },
    {
     "name": "stderr",
     "output_type": "stream",
     "text": [
      "Epoch 11/100: 100%|██████████| 49/49 [00:27<00:00,  1.81it/s, Training loss=0.1352, Learning rate=0.00118]\n"
     ]
    },
    {
     "name": "stdout",
     "output_type": "stream",
     "text": [
      "Epoch 11/100 took 30.82s | Train loss: 0.1352 | Val loss: 1.6448 | Val accuracy: 60.29% | EarlyStopper count: 7\n"
     ]
    },
    {
     "name": "stderr",
     "output_type": "stream",
     "text": [
      "Epoch 12/100: 100%|██████████| 49/49 [00:27<00:00,  1.79it/s, Training loss=0.0985, Learning rate=0.00127]\n"
     ]
    },
    {
     "name": "stdout",
     "output_type": "stream",
     "text": [
      "Epoch 12/100 took 31.32s | Train loss: 0.0985 | Val loss: 1.6496 | Val accuracy: 59.61% | EarlyStopper count: 8\n"
     ]
    },
    {
     "name": "stderr",
     "output_type": "stream",
     "text": [
      "Epoch 13/100: 100%|██████████| 49/49 [00:26<00:00,  1.83it/s, Training loss=0.4049, Learning rate=0.00137]\n"
     ]
    },
    {
     "name": "stdout",
     "output_type": "stream",
     "text": [
      "Epoch 13/100 took 30.49s | Train loss: 0.4049 | Val loss: 2.3810 | Val accuracy: 54.51% | EarlyStopper count: 9\n",
      "Early stopping\n"
     ]
    }
   ],
   "source": [
    "out = train(model, train_dataloader, val_dataloader, optimiser,\n",
    "            loss, device, epochs, early_stopper, device_path\n",
    "           )\n",
    "train_loss_list, val_loss_list, val_acc_list, train_time_list, lr_list, early_stop = out"
   ]
  },
  {
   "cell_type": "code",
   "execution_count": 13,
   "id": "8412ac5f-3b59-41fb-82e0-c9bfaa4d74a4",
   "metadata": {},
   "outputs": [
    {
     "data": {
      "text/plain": [
       "[<matplotlib.lines.Line2D at 0x7f640f152b10>]"
      ]
     },
     "execution_count": 13,
     "metadata": {},
     "output_type": "execute_result"
    },
    {
     "data": {
      "image/png": "[encoded data removed]",
      "text/plain": [
       "<Figure size 640x480 with 1 Axes>"
      ]
     },
     "metadata": {},
     "output_type": "display_data"
    }
   ],
   "source": [
    "import matplotlib.pyplot as plt\n",
    "\n",
    "plt.plot(lr_list, train_loss_list)"
   ]
  },
  {
   "cell_type": "markdown",
   "id": "fbf6cc00-0cbd-4c04-80b0-e08e2b793316",
   "metadata": {},
   "source": [
    "### The best is around 0.001, we will take 0.001 as the max and 0.001 / 10 as the minimum for the one cycle policy"
   ]
  },
  {
   "cell_type": "code",
   "execution_count": 17,
   "id": "436852e7-8f60-437b-8465-722a7a66645b",
   "metadata": {},
   "outputs": [],
   "source": [
    "data = {\n",
    "    \"time_trained\": datetime.now().strftime(\"%D,%H:%M:%S\"),\n",
    "    \"model_name\": model_name,\n",
    "    \"model_seed\": model_seed,\n",
    "    \"device_type\": device_type,\n",
    "    \n",
    "    \"batch_size\": batch_size,\n",
    "    \"transform\": transform,\n",
    "    \n",
    "    \"lr\": lr,\n",
    "    \"epochs\": epochs,\n",
    "    \"patience\": patience,\n",
    "    \n",
    "    \"train_loss_list\": train_loss_list,\n",
    "    \"val_loss_list\": val_loss_list,\n",
    "    \"val_acc_list\": val_acc_list,\n",
    "    \"train_time_list\": train_time_list,\n",
    "    \"early_stop\": early_stop,   # Boolean for if early stopping happened\n",
    "    \"lr_list\": lr_list\n",
    "}\n",
    "\n",
    "with open(os.path.join(model_path, \"data.pickle\"), \"wb\") as f: \n",
    "    pickle.dump(data, f)"
   ]
  }
 ],
 "metadata": {
  "kernelspec": {
   "display_name": "Python 3 (ipykernel)",
   "language": "python",
   "name": "python3"
  },
  "language_info": {
   "codemirror_mode": {
    "name": "ipython",
    "version": 3
   },
   "file_extension": ".py",
   "mimetype": "text/x-python",
   "name": "python",
   "nbconvert_exporter": "python",
   "pygments_lexer": "ipython3",
   "version": "3.11.5"
  }
 },
 "nbformat": 4,
 "nbformat_minor": 5
}
