{
 "cells": [
  {
   "cell_type": "code",
   "execution_count": 1,
   "metadata": {},
   "outputs": [],
   "source": [
    "import torch\n",
    "import torch as F\n",
    "import torch.nn as nn\n",
    "from torch.utils.data import DataLoader\n",
    "from torchvision import transforms\n",
    "from torchvision import datasets\n",
    "import matplotlib.pyplot as plt\n",
    "import numpy as np\n",
    "\n",
    "import os\n",
    "os.chdir(\"../models\")\n",
    "from common_utils import *\n",
    "from gradmap_utils import *\n",
    "\n",
    "# set seed\n",
    "set_seed(42)"
   ]
  },
  {
   "cell_type": "code",
   "execution_count": 2,
   "metadata": {},
   "outputs": [],
   "source": [
    "transform2 = transforms.Compose([\n",
    "    transforms.ToTensor(),\n",
    "    transforms.Resize((100, 100), antialias=True),\n",
    "])\n",
    "\n",
    "\n",
    "# load data\n",
    "test_dataset = datasets.Flowers102(root='../data', split='train', download=True, transform=transform2)\n",
    "\n",
    "# define dataloader to load single image\n",
    "dataloader = DataLoader(dataset=test_dataset, shuffle=False, batch_size=1)"
   ]
  },
  {
   "cell_type": "code",
   "execution_count": 5,
   "metadata": {},
   "outputs": [],
   "source": [
    "# specify model path\n",
    "model_path = 'saved_models/FinalModel/cuda/best_model.pt'\n",
    "# determine device type\n",
    "if torch.cuda.is_available(): # nvidia gpu\n",
    "    device = torch.device(\"cuda\")\n",
    "elif torch.backends.mps.is_available(): # apple gpu\n",
    "    device = torch.device(\"mps\")\n",
    "else:\n",
    "    device = torch.device(\"cpu\")\n",
    "\n",
    "\n",
    "# load model\n",
    "model = cnn_grad_cam(model_path=model_path, device=device)\n",
    "model.eval()\n",
    "\n",
    "# create directory to save grad maps\n",
    "if not os.path.exists('../grad_maps'):\n",
    "    os.makedirs('../grad_maps')\n",
    "\n",
    "path = '../grad_maps'\n",
    "\n",
    "# iterate over images in dataloader\n",
    "for i, (img, label) in enumerate(dataloader):\n",
    "    # get heatmap\n",
    "    heatmap = get_heatmap(model, img)\n",
    "\n",
    "    # define filename as map_i.png\n",
    "    filename = 'map_' + str(i) + '.png'\n",
    "    save_path = os.path.join(path, filename)\n",
    "    \n",
    "    # resize image to larger size\n",
    "    img = transforms.Resize((448, 448), antialias=True)(img)\n",
    "    img = img.squeeze()\n",
    "    img = img.permute(1, 2, 0)\n",
    "\n",
    "    # save grad_map\n",
    "    save_grad_map(img.numpy(), heatmap, save_path)\n",
    "    \n",
    "    if i == 9:\n",
    "        break"
   ]
  }
 ],
 "metadata": {
  "kernelspec": {
   "display_name": "sc4001",
   "language": "python",
   "name": "python3"
  },
  "language_info": {
   "codemirror_mode": {
    "name": "ipython",
    "version": 3
   },
   "file_extension": ".py",
   "mimetype": "text/x-python",
   "name": "python",
   "nbconvert_exporter": "python",
   "pygments_lexer": "ipython3",
   "version": "3.8.18"
  },
  "orig_nbformat": 4
 },
 "nbformat": 4,
 "nbformat_minor": 2
}
