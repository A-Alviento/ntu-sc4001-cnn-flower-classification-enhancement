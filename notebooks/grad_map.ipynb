{
 "cells": [
  {
   "cell_type": "code",
   "execution_count": 1,
   "metadata": {},
   "outputs": [],
   "source": [
    "import torch\n",
    "import torch as F\n",
    "import torch.nn as nn\n",
    "from torch.utils.data import DataLoader\n",
    "from torchvision import transforms\n",
    "from torchvision import datasets\n",
    "import matplotlib.pyplot as plt\n",
    "import numpy as np\n",
    "import cv2\n",
    "\n",
    "import os\n",
    "os.chdir(\"../models\")\n",
    "from common_utils import *\n",
    "from gradmap_utils import *\n",
    "\n",
    "# set seed\n",
    "set_seed(42)"
   ]
  },
  {
   "cell_type": "code",
   "execution_count": 2,
   "metadata": {},
   "outputs": [],
   "source": [
    "transform2 = transforms.Compose([\n",
    "    transforms.ToTensor(),\n",
    "    transforms.Resize((100, 100), antialias=True),\n",
    "])\n",
    "\n",
    "\n",
    "# load data\n",
    "test_dataset = CustomFlowers102(root='../data', split='train', download=True, transform=transform2)\n",
    "\n",
    "# define dataloader to load single image\n",
    "dataloader = DataLoader(dataset=test_dataset, shuffle=False, batch_size=1)"
   ]
  },
  {
   "cell_type": "code",
   "execution_count": 3,
   "metadata": {},
   "outputs": [],
   "source": [
    "# specify model path\n",
    "model_path = 'saved_models/FinalModel/cuda/best_model.pt'\n",
    "# determine device type\n",
    "if torch.cuda.is_available(): # nvidia gpu\n",
    "    device = torch.device(\"cuda\")\n",
    "elif torch.backends.mps.is_available(): # apple gpu\n",
    "    device = torch.device(\"mps\")\n",
    "else:\n",
    "    device = torch.device(\"cpu\")\n",
    "\n",
    "\n",
    "# load model\n",
    "model = cnn_grad_cam(model_path=model_path, device=device)\n",
    "model.eval()\n",
    "\n",
    "# create directory to save grad maps\n",
    "if not os.path.exists('../grad_maps'):\n",
    "    os.makedirs('../grad_maps')\n",
    "\n",
    "path = '../grad_maps'\n",
    "\n",
    "# iterate over images in dataloader\n",
    "for i, (img, label, img_path) in enumerate(dataloader):\n",
    "    # get heatmap\n",
    "    heatmap = get_heatmap(model, img)\n",
    "    img_path = img_path[0]\n",
    "    # resize image to larger size\n",
    "    img = cv2.imread(img_path)\n",
    "    # get filename of img_path\n",
    "    filename = os.path.basename(img_path)\n",
    "\n",
    "    # path to save grad map\n",
    "    save_path = os.path.join(path, filename)\n",
    "\n",
    "    # save grad_map\n",
    "    save_grad_map(img, heatmap, save_path)\n",
    "    \n",
    "    if i == 9:\n",
    "        break"
   ]
  }
 ],
 "metadata": {
  "kernelspec": {
   "display_name": "sc4001",
   "language": "python",
   "name": "python3"
  },
  "language_info": {
   "codemirror_mode": {
    "name": "ipython",
    "version": 3
   },
   "file_extension": ".py",
   "mimetype": "text/x-python",
   "name": "python",
   "nbconvert_exporter": "python",
   "pygments_lexer": "ipython3",
   "version": "3.8.18"
  },
  "orig_nbformat": 4
 },
 "nbformat": 4,
 "nbformat_minor": 2
}
