{
 "cells": [
  {
   "cell_type": "markdown",
   "metadata": {},
   "source": [
    "#### This notebook trains our baseline model"
   ]
  },
  {
   "cell_type": "markdown",
   "metadata": {},
   "source": [
    "Imports"
   ]
  },
  {
   "cell_type": "code",
   "execution_count": 1,
   "metadata": {},
   "outputs": [],
   "source": [
    "import os\n",
    "os.environ['PYTORCH_ENABLE_MPS_FALLBACK'] = '1'\n",
    "import torch\n",
    "from torch import nn\n",
    "import torchvision\n",
    "from torch.utils.data import DataLoader\n",
    "from torchvision import datasets, transforms\n",
    "os.chdir(\"../models\")\n",
    "from model import CustomCNN\n",
    "from common_utils import set_seed, EarlyStopper, train, get_mean_rgb, CustomTransform, CustomRegularizeTransform\n",
    "\n",
    "# set seed\n",
    "set_seed(42)"
   ]
  },
  {
   "cell_type": "markdown",
   "metadata": {},
   "source": [
    "Initialise model and dataset"
   ]
  },
  {
   "cell_type": "code",
   "execution_count": 2,
   "metadata": {},
   "outputs": [],
   "source": [
    "model = CustomCNN(fcn_depth=4, fcn_width=[1024, 512, 256]) # initialise model\n",
    "\n",
    "mean_rgb = get_mean_rgb(datasets.Flowers102(root='../data', split='test', download=True, transform=transforms.ToTensor()))\n",
    "\n",
    "transform1 = transforms.Compose([\n",
    "    # CustomRegularizeTransform(),\n",
    "    transforms.RandomHorizontalFlip(0.5),\n",
    "    transforms.Resize((100, 100), antialias=True),\n",
    "    transforms.ToTensor(),\n",
    "    transforms.Normalize(mean=mean_rgb, std=[1,1,1])\n",
    "])\n",
    "\n",
    "transform2 = transforms.Compose([\n",
    "    # CustomRegularizeTransform(),\n",
    "    transforms.Resize((100, 100), antialias=True),\n",
    "    transforms.ToTensor(),\n",
    "    transforms.Normalize(mean=mean_rgb, std=[1,1,1])\n",
    "])\n",
    "\n",
    "# load data\n",
    "train_dataset = datasets.Flowers102(root='../data', split='test', download=True, transform=transform1) \n",
    "val_dataset = datasets.Flowers102(root='../data', split='val', download=True, transform=transform2) \n",
    "test_dataset = datasets.Flowers102(root='../data', split='train', download=True, transform=transform2)\n",
    "# NOTE: Due to a bug with the Flowers102 dataset, the train and test splits are swapped\n",
    "\n",
    "batch_size = 128\n",
    "# initialise dataloaders\n",
    "train_dataloader = DataLoader(train_dataset, batch_size=batch_size, shuffle=True)\n",
    "val_dataloader = DataLoader(val_dataset, batch_size=batch_size, shuffle=False)\n",
    "test_dataloader = DataLoader(test_dataset, batch_size=batch_size, shuffle=False)"
   ]
  },
  {
   "cell_type": "markdown",
   "metadata": {},
   "source": [
    "Specify hyperparameters"
   ]
  },
  {
   "cell_type": "code",
   "execution_count": 3,
   "metadata": {},
   "outputs": [
    {
     "data": {
      "text/plain": [
       "CustomCNN(\n",
       "  (conv_stack): Sequential(\n",
       "    (0): Conv2d(3, 3, kernel_size=(5, 5), stride=(1, 1), padding=(2, 2), groups=3)\n",
       "    (1): Conv2d(3, 64, kernel_size=(1, 1), stride=(1, 1))\n",
       "    (2): ReLU()\n",
       "    (3): LocalResponseNorm(5, alpha=0.0001, beta=0.75, k=2)\n",
       "    (4): MaxPool2d(kernel_size=3, stride=2, padding=0, dilation=1, ceil_mode=False)\n",
       "    (5): BatchNorm2d(64, eps=1e-05, momentum=0.05, affine=True, track_running_stats=True)\n",
       "    (6): Conv2d(64, 64, kernel_size=(5, 5), stride=(1, 1), padding=(2, 2), groups=64)\n",
       "    (7): Conv2d(64, 128, kernel_size=(1, 1), stride=(1, 1))\n",
       "    (8): ReLU()\n",
       "    (9): LocalResponseNorm(5, alpha=0.0001, beta=0.75, k=2)\n",
       "    (10): MaxPool2d(kernel_size=3, stride=2, padding=0, dilation=1, ceil_mode=False)\n",
       "    (11): BatchNorm2d(128, eps=1e-05, momentum=0.05, affine=True, track_running_stats=True)\n",
       "    (12): Conv2d(128, 128, kernel_size=(3, 3), stride=(1, 1), padding=(1, 1), groups=128)\n",
       "    (13): Conv2d(128, 256, kernel_size=(1, 1), stride=(1, 1))\n",
       "    (14): ReLU()\n",
       "    (15): MaxPool2d(kernel_size=3, stride=2, padding=0, dilation=1, ceil_mode=False)\n",
       "    (16): BatchNorm2d(256, eps=1e-05, momentum=0.05, affine=True, track_running_stats=True)\n",
       "    (17): Conv2d(256, 256, kernel_size=(3, 3), stride=(1, 1), padding=(1, 1), groups=256)\n",
       "    (18): Conv2d(256, 512, kernel_size=(1, 1), stride=(1, 1))\n",
       "    (19): ReLU()\n",
       "    (20): BatchNorm2d(512, eps=1e-05, momentum=0.05, affine=True, track_running_stats=True)\n",
       "    (21): Conv2d(512, 512, kernel_size=(3, 3), stride=(1, 1), padding=(1, 1), groups=512)\n",
       "    (22): Conv2d(512, 512, kernel_size=(1, 1), stride=(1, 1))\n",
       "    (23): ReLU()\n",
       "    (24): MaxPool2d(kernel_size=3, stride=2, padding=0, dilation=1, ceil_mode=False)\n",
       "  )\n",
       "  (fcn_stack): Sequential(\n",
       "    (0): Flatten(start_dim=1, end_dim=-1)\n",
       "    (1): BatchNorm1d(12800, eps=1e-05, momentum=0.05, affine=True, track_running_stats=True)\n",
       "    (2): Linear(in_features=12800, out_features=1024, bias=True)\n",
       "    (3): ReLU()\n",
       "    (4): Dropout(p=0.5, inplace=False)\n",
       "    (5): BatchNorm1d(1024, eps=1e-05, momentum=0.05, affine=True, track_running_stats=True)\n",
       "    (6): Linear(in_features=1024, out_features=512, bias=True)\n",
       "    (7): ReLU()\n",
       "    (8): Dropout(p=0.5, inplace=False)\n",
       "    (9): BatchNorm1d(512, eps=1e-05, momentum=0.05, affine=True, track_running_stats=True)\n",
       "    (10): Linear(in_features=512, out_features=256, bias=True)\n",
       "    (11): ReLU()\n",
       "    (12): Dropout(p=0.5, inplace=False)\n",
       "    (13): Linear(in_features=256, out_features=102, bias=True)\n",
       "  )\n",
       ")"
      ]
     },
     "execution_count": 3,
     "metadata": {},
     "output_type": "execute_result"
    }
   ],
   "source": [
    "lr = 0.001 # learning rate\n",
    "optimiser = torch.optim.Adam(model.parameters(), lr=lr) # initialise optimiser\n",
    "loss = torch.nn.CrossEntropyLoss() # initialise loss function\n",
    "\n",
    "if torch.cuda.is_available(): # nvidia gpu\n",
    "    device = torch.device(\"cuda\")\n",
    "elif torch.backends.mps.is_available(): # apple gpu\n",
    "    device = torch.device(\"mps\")\n",
    "else:\n",
    "    device = torch.device(\"cpu\")\n",
    "model.to(device)\n",
    "\n",
    "epochs = 300 # number of epochs\n",
    "early_stopper = EarlyStopper(patience=10) # initialise early stopper\n",
    "\n",
    "\n",
    "# Make directory to save baseline model\n",
    "baseline_model_path = \"./saved_models/baseline_model/non_preprocessed\"\n",
    "if not os.path.exists(baseline_model_path):\n",
    "    os.makedirs(baseline_model_path, exist_ok=True)\n",
    "\n",
    "# Define the device-specific path\n",
    "device_type = None\n",
    "if device == torch.device(\"cuda\"):\n",
    "    device_type = \"cuda\"\n",
    "elif device == torch.device(\"mps\"):\n",
    "    device_type = \"mps\"\n",
    "else:\n",
    "    device_type = \"cpu\"\n",
    "\n",
    "# Construct the full path\n",
    "device_path = os.path.join(baseline_model_path, device_type)\n",
    "\n",
    "# Create the directory if it doesn't exist\n",
    "if not os.path.exists(device_path):\n",
    "    os.mkdir(device_path)\n",
    "\n",
    "model"
   ]
  },
  {
   "cell_type": "markdown",
   "metadata": {},
   "source": [
    "Train the model"
   ]
  },
  {
   "cell_type": "code",
   "execution_count": 4,
   "metadata": {
    "scrolled": true
   },
   "outputs": [
    {
     "name": "stderr",
     "output_type": "stream",
     "text": [
      "Epoch 1/300: 100%|███████████████████████████████████████████████████████████████████████████████████████████████████████████████████| 49/49 [00:31<00:00,  1.55it/s, Training loss=4.0851]\n"
     ]
    },
    {
     "name": "stdout",
     "output_type": "stream",
     "text": [
      "Epoch 1/300 took 35.06s | Train loss: 4.0851 | Val loss: 5.4270 | Val accuracy: 1.96% | EarlyStopper count: 0\n"
     ]
    },
    {
     "name": "stderr",
     "output_type": "stream",
     "text": [
      "Epoch 2/300: 100%|███████████████████████████████████████████████████████████████████████████████████████████████████████████████████| 49/49 [00:28<00:00,  1.71it/s, Training loss=3.4160]\n"
     ]
    },
    {
     "name": "stdout",
     "output_type": "stream",
     "text": [
      "Epoch 2/300 took 32.22s | Train loss: 3.4160 | Val loss: 5.9546 | Val accuracy: 1.37% | EarlyStopper count: 0\n"
     ]
    },
    {
     "name": "stderr",
     "output_type": "stream",
     "text": [
      "Epoch 3/300: 100%|███████████████████████████████████████████████████████████████████████████████████████████████████████████████████| 49/49 [00:28<00:00,  1.71it/s, Training loss=2.9551]\n"
     ]
    },
    {
     "name": "stdout",
     "output_type": "stream",
     "text": [
      "Epoch 3/300 took 32.10s | Train loss: 2.9551 | Val loss: 3.5734 | Val accuracy: 12.16% | EarlyStopper count: 1\n"
     ]
    },
    {
     "name": "stderr",
     "output_type": "stream",
     "text": [
      "Epoch 4/300: 100%|███████████████████████████████████████████████████████████████████████████████████████████████████████████████████| 49/49 [00:28<00:00,  1.72it/s, Training loss=2.6668]\n"
     ]
    },
    {
     "name": "stdout",
     "output_type": "stream",
     "text": [
      "Epoch 4/300 took 32.06s | Train loss: 2.6668 | Val loss: 2.8056 | Val accuracy: 27.55% | EarlyStopper count: 0\n"
     ]
    },
    {
     "name": "stderr",
     "output_type": "stream",
     "text": [
      "Epoch 5/300: 100%|███████████████████████████████████████████████████████████████████████████████████████████████████████████████████| 49/49 [00:28<00:00,  1.72it/s, Training loss=2.6429]\n"
     ]
    },
    {
     "name": "stdout",
     "output_type": "stream",
     "text": [
      "Epoch 5/300 took 32.02s | Train loss: 2.6429 | Val loss: 2.7250 | Val accuracy: 29.31% | EarlyStopper count: 0\n"
     ]
    },
    {
     "name": "stderr",
     "output_type": "stream",
     "text": [
      "Epoch 6/300: 100%|███████████████████████████████████████████████████████████████████████████████████████████████████████████████████| 49/49 [00:28<00:00,  1.70it/s, Training loss=2.3436]\n"
     ]
    },
    {
     "name": "stdout",
     "output_type": "stream",
     "text": [
      "Epoch 6/300 took 32.35s | Train loss: 2.3436 | Val loss: 2.4425 | Val accuracy: 34.31% | EarlyStopper count: 0\n"
     ]
    },
    {
     "name": "stderr",
     "output_type": "stream",
     "text": [
      "Epoch 7/300: 100%|███████████████████████████████████████████████████████████████████████████████████████████████████████████████████| 49/49 [00:28<00:00,  1.72it/s, Training loss=2.1039]\n"
     ]
    },
    {
     "name": "stdout",
     "output_type": "stream",
     "text": [
      "Epoch 7/300 took 32.01s | Train loss: 2.1039 | Val loss: 2.1950 | Val accuracy: 39.12% | EarlyStopper count: 0\n"
     ]
    },
    {
     "name": "stderr",
     "output_type": "stream",
     "text": [
      "Epoch 8/300: 100%|███████████████████████████████████████████████████████████████████████████████████████████████████████████████████| 49/49 [00:28<00:00,  1.74it/s, Training loss=1.9415]\n"
     ]
    },
    {
     "name": "stdout",
     "output_type": "stream",
     "text": [
      "Epoch 8/300 took 31.71s | Train loss: 1.9415 | Val loss: 2.0483 | Val accuracy: 44.61% | EarlyStopper count: 0\n"
     ]
    },
    {
     "name": "stderr",
     "output_type": "stream",
     "text": [
      "Epoch 9/300: 100%|███████████████████████████████████████████████████████████████████████████████████████████████████████████████████| 49/49 [00:28<00:00,  1.71it/s, Training loss=1.7239]\n"
     ]
    },
    {
     "name": "stdout",
     "output_type": "stream",
     "text": [
      "Epoch 9/300 took 32.18s | Train loss: 1.7239 | Val loss: 2.0901 | Val accuracy: 44.22% | EarlyStopper count: 0\n"
     ]
    },
    {
     "name": "stderr",
     "output_type": "stream",
     "text": [
      "Epoch 10/300: 100%|██████████████████████████████████████████████████████████████████████████████████████████████████████████████████| 49/49 [00:28<00:00,  1.73it/s, Training loss=1.6140]\n"
     ]
    },
    {
     "name": "stdout",
     "output_type": "stream",
     "text": [
      "Epoch 10/300 took 31.86s | Train loss: 1.6140 | Val loss: 1.9282 | Val accuracy: 46.47% | EarlyStopper count: 1\n"
     ]
    },
    {
     "name": "stderr",
     "output_type": "stream",
     "text": [
      "Epoch 11/300: 100%|██████████████████████████████████████████████████████████████████████████████████████████████████████████████████| 49/49 [00:28<00:00,  1.71it/s, Training loss=1.4412]\n"
     ]
    },
    {
     "name": "stdout",
     "output_type": "stream",
     "text": [
      "Epoch 11/300 took 32.25s | Train loss: 1.4412 | Val loss: 2.2814 | Val accuracy: 39.90% | EarlyStopper count: 0\n"
     ]
    },
    {
     "name": "stderr",
     "output_type": "stream",
     "text": [
      "Epoch 12/300: 100%|██████████████████████████████████████████████████████████████████████████████████████████████████████████████████| 49/49 [00:28<00:00,  1.70it/s, Training loss=2.6662]\n"
     ]
    },
    {
     "name": "stdout",
     "output_type": "stream",
     "text": [
      "Epoch 12/300 took 32.35s | Train loss: 2.6662 | Val loss: 2.4483 | Val accuracy: 36.37% | EarlyStopper count: 1\n"
     ]
    },
    {
     "name": "stderr",
     "output_type": "stream",
     "text": [
      "Epoch 13/300: 100%|██████████████████████████████████████████████████████████████████████████████████████████████████████████████████| 49/49 [00:28<00:00,  1.70it/s, Training loss=2.2743]\n"
     ]
    },
    {
     "name": "stdout",
     "output_type": "stream",
     "text": [
      "Epoch 13/300 took 32.30s | Train loss: 2.2743 | Val loss: 2.1784 | Val accuracy: 39.90% | EarlyStopper count: 2\n"
     ]
    },
    {
     "name": "stderr",
     "output_type": "stream",
     "text": [
      "Epoch 14/300: 100%|██████████████████████████████████████████████████████████████████████████████████████████████████████████████████| 49/49 [00:29<00:00,  1.66it/s, Training loss=2.0055]\n"
     ]
    },
    {
     "name": "stdout",
     "output_type": "stream",
     "text": [
      "Epoch 14/300 took 33.18s | Train loss: 2.0055 | Val loss: 2.1046 | Val accuracy: 41.76% | EarlyStopper count: 3\n"
     ]
    },
    {
     "name": "stderr",
     "output_type": "stream",
     "text": [
      "Epoch 15/300: 100%|██████████████████████████████████████████████████████████████████████████████████████████████████████████████████| 49/49 [00:29<00:00,  1.68it/s, Training loss=1.8915]\n"
     ]
    },
    {
     "name": "stdout",
     "output_type": "stream",
     "text": [
      "Epoch 15/300 took 32.79s | Train loss: 1.8915 | Val loss: 1.9665 | Val accuracy: 45.20% | EarlyStopper count: 4\n"
     ]
    },
    {
     "name": "stderr",
     "output_type": "stream",
     "text": [
      "Epoch 16/300: 100%|██████████████████████████████████████████████████████████████████████████████████████████████████████████████████| 49/49 [00:28<00:00,  1.70it/s, Training loss=1.6818]\n"
     ]
    },
    {
     "name": "stdout",
     "output_type": "stream",
     "text": [
      "Epoch 16/300 took 32.38s | Train loss: 1.6818 | Val loss: 1.8475 | Val accuracy: 48.82% | EarlyStopper count: 5\n"
     ]
    },
    {
     "name": "stderr",
     "output_type": "stream",
     "text": [
      "Epoch 17/300: 100%|██████████████████████████████████████████████████████████████████████████████████████████████████████████████████| 49/49 [00:28<00:00,  1.71it/s, Training loss=1.6777]\n"
     ]
    },
    {
     "name": "stdout",
     "output_type": "stream",
     "text": [
      "Epoch 17/300 took 32.13s | Train loss: 1.6777 | Val loss: 1.9508 | Val accuracy: 45.98% | EarlyStopper count: 0\n"
     ]
    },
    {
     "name": "stderr",
     "output_type": "stream",
     "text": [
      "Epoch 18/300: 100%|██████████████████████████████████████████████████████████████████████████████████████████████████████████████████| 49/49 [00:28<00:00,  1.70it/s, Training loss=1.6128]\n"
     ]
    },
    {
     "name": "stdout",
     "output_type": "stream",
     "text": [
      "Epoch 18/300 took 32.41s | Train loss: 1.6128 | Val loss: 1.8215 | Val accuracy: 49.41% | EarlyStopper count: 1\n"
     ]
    },
    {
     "name": "stderr",
     "output_type": "stream",
     "text": [
      "Epoch 19/300: 100%|██████████████████████████████████████████████████████████████████████████████████████████████████████████████████| 49/49 [00:28<00:00,  1.70it/s, Training loss=1.5603]\n"
     ]
    },
    {
     "name": "stdout",
     "output_type": "stream",
     "text": [
      "Epoch 19/300 took 32.40s | Train loss: 1.5603 | Val loss: 1.7876 | Val accuracy: 50.49% | EarlyStopper count: 0\n"
     ]
    },
    {
     "name": "stderr",
     "output_type": "stream",
     "text": [
      "Epoch 20/300: 100%|██████████████████████████████████████████████████████████████████████████████████████████████████████████████████| 49/49 [00:28<00:00,  1.70it/s, Training loss=1.4039]\n"
     ]
    },
    {
     "name": "stdout",
     "output_type": "stream",
     "text": [
      "Epoch 20/300 took 32.39s | Train loss: 1.4039 | Val loss: 1.7564 | Val accuracy: 50.88% | EarlyStopper count: 0\n"
     ]
    },
    {
     "name": "stderr",
     "output_type": "stream",
     "text": [
      "Epoch 21/300: 100%|██████████████████████████████████████████████████████████████████████████████████████████████████████████████████| 49/49 [00:28<00:00,  1.69it/s, Training loss=1.3266]\n"
     ]
    },
    {
     "name": "stdout",
     "output_type": "stream",
     "text": [
      "Epoch 21/300 took 32.48s | Train loss: 1.3266 | Val loss: 1.7200 | Val accuracy: 52.94% | EarlyStopper count: 0\n"
     ]
    },
    {
     "name": "stderr",
     "output_type": "stream",
     "text": [
      "Epoch 22/300: 100%|██████████████████████████████████████████████████████████████████████████████████████████████████████████████████| 49/49 [00:28<00:00,  1.74it/s, Training loss=1.2362]\n"
     ]
    },
    {
     "name": "stdout",
     "output_type": "stream",
     "text": [
      "Epoch 22/300 took 31.72s | Train loss: 1.2362 | Val loss: 1.7329 | Val accuracy: 52.06% | EarlyStopper count: 0\n"
     ]
    },
    {
     "name": "stderr",
     "output_type": "stream",
     "text": [
      "Epoch 23/300: 100%|██████████████████████████████████████████████████████████████████████████████████████████████████████████████████| 49/49 [00:28<00:00,  1.74it/s, Training loss=1.1622]\n"
     ]
    },
    {
     "name": "stdout",
     "output_type": "stream",
     "text": [
      "Epoch 23/300 took 31.68s | Train loss: 1.1622 | Val loss: 1.6499 | Val accuracy: 54.22% | EarlyStopper count: 1\n"
     ]
    },
    {
     "name": "stderr",
     "output_type": "stream",
     "text": [
      "Epoch 24/300: 100%|██████████████████████████████████████████████████████████████████████████████████████████████████████████████████| 49/49 [00:28<00:00,  1.73it/s, Training loss=1.0971]\n"
     ]
    },
    {
     "name": "stdout",
     "output_type": "stream",
     "text": [
      "Epoch 24/300 took 31.75s | Train loss: 1.0971 | Val loss: 1.6526 | Val accuracy: 55.20% | EarlyStopper count: 0\n"
     ]
    },
    {
     "name": "stderr",
     "output_type": "stream",
     "text": [
      "Epoch 25/300: 100%|██████████████████████████████████████████████████████████████████████████████████████████████████████████████████| 49/49 [00:28<00:00,  1.74it/s, Training loss=1.0120]\n"
     ]
    },
    {
     "name": "stdout",
     "output_type": "stream",
     "text": [
      "Epoch 25/300 took 31.69s | Train loss: 1.0120 | Val loss: 1.7781 | Val accuracy: 52.94% | EarlyStopper count: 1\n"
     ]
    },
    {
     "name": "stderr",
     "output_type": "stream",
     "text": [
      "Epoch 26/300: 100%|██████████████████████████████████████████████████████████████████████████████████████████████████████████████████| 49/49 [00:28<00:00,  1.73it/s, Training loss=1.2182]\n"
     ]
    },
    {
     "name": "stdout",
     "output_type": "stream",
     "text": [
      "Epoch 26/300 took 31.71s | Train loss: 1.2182 | Val loss: 1.7406 | Val accuracy: 54.22% | EarlyStopper count: 2\n"
     ]
    },
    {
     "name": "stderr",
     "output_type": "stream",
     "text": [
      "Epoch 27/300: 100%|██████████████████████████████████████████████████████████████████████████████████████████████████████████████████| 49/49 [00:28<00:00,  1.73it/s, Training loss=1.0931]\n"
     ]
    },
    {
     "name": "stdout",
     "output_type": "stream",
     "text": [
      "Epoch 27/300 took 31.70s | Train loss: 1.0931 | Val loss: 1.6858 | Val accuracy: 54.71% | EarlyStopper count: 3\n"
     ]
    },
    {
     "name": "stderr",
     "output_type": "stream",
     "text": [
      "Epoch 28/300: 100%|██████████████████████████████████████████████████████████████████████████████████████████████████████████████████| 49/49 [00:28<00:00,  1.75it/s, Training loss=0.9857]\n"
     ]
    },
    {
     "name": "stdout",
     "output_type": "stream",
     "text": [
      "Epoch 28/300 took 31.62s | Train loss: 0.9857 | Val loss: 1.6429 | Val accuracy: 55.39% | EarlyStopper count: 4\n"
     ]
    },
    {
     "name": "stderr",
     "output_type": "stream",
     "text": [
      "Epoch 29/300: 100%|██████████████████████████████████████████████████████████████████████████████████████████████████████████████████| 49/49 [00:28<00:00,  1.71it/s, Training loss=0.9959]\n"
     ]
    },
    {
     "name": "stdout",
     "output_type": "stream",
     "text": [
      "Epoch 29/300 took 32.24s | Train loss: 0.9959 | Val loss: 1.6316 | Val accuracy: 55.39% | EarlyStopper count: 0\n"
     ]
    },
    {
     "name": "stderr",
     "output_type": "stream",
     "text": [
      "Epoch 30/300: 100%|██████████████████████████████████████████████████████████████████████████████████████████████████████████████████| 49/49 [00:28<00:00,  1.71it/s, Training loss=0.9262]\n"
     ]
    },
    {
     "name": "stdout",
     "output_type": "stream",
     "text": [
      "Epoch 30/300 took 32.21s | Train loss: 0.9262 | Val loss: 1.6201 | Val accuracy: 56.57% | EarlyStopper count: 0\n"
     ]
    },
    {
     "name": "stderr",
     "output_type": "stream",
     "text": [
      "Epoch 31/300: 100%|██████████████████████████████████████████████████████████████████████████████████████████████████████████████████| 49/49 [00:28<00:00,  1.72it/s, Training loss=0.9228]\n"
     ]
    },
    {
     "name": "stdout",
     "output_type": "stream",
     "text": [
      "Epoch 31/300 took 31.97s | Train loss: 0.9228 | Val loss: 1.7714 | Val accuracy: 55.88% | EarlyStopper count: 0\n"
     ]
    },
    {
     "name": "stderr",
     "output_type": "stream",
     "text": [
      "Epoch 32/300: 100%|██████████████████████████████████████████████████████████████████████████████████████████████████████████████████| 49/49 [00:28<00:00,  1.74it/s, Training loss=0.8246]\n"
     ]
    },
    {
     "name": "stdout",
     "output_type": "stream",
     "text": [
      "Epoch 32/300 took 31.69s | Train loss: 0.8246 | Val loss: 1.8138 | Val accuracy: 55.00% | EarlyStopper count: 1\n"
     ]
    },
    {
     "name": "stderr",
     "output_type": "stream",
     "text": [
      "Epoch 33/300: 100%|██████████████████████████████████████████████████████████████████████████████████████████████████████████████████| 49/49 [00:28<00:00,  1.74it/s, Training loss=0.8570]\n"
     ]
    },
    {
     "name": "stdout",
     "output_type": "stream",
     "text": [
      "Epoch 33/300 took 31.63s | Train loss: 0.8570 | Val loss: 1.7579 | Val accuracy: 55.88% | EarlyStopper count: 2\n"
     ]
    },
    {
     "name": "stderr",
     "output_type": "stream",
     "text": [
      "Epoch 34/300: 100%|██████████████████████████████████████████████████████████████████████████████████████████████████████████████████| 49/49 [00:28<00:00,  1.74it/s, Training loss=1.1052]\n"
     ]
    },
    {
     "name": "stdout",
     "output_type": "stream",
     "text": [
      "Epoch 34/300 took 31.69s | Train loss: 1.1052 | Val loss: 1.8059 | Val accuracy: 54.51% | EarlyStopper count: 3\n"
     ]
    },
    {
     "name": "stderr",
     "output_type": "stream",
     "text": [
      "Epoch 35/300: 100%|██████████████████████████████████████████████████████████████████████████████████████████████████████████████████| 49/49 [00:28<00:00,  1.74it/s, Training loss=0.9226]\n"
     ]
    },
    {
     "name": "stdout",
     "output_type": "stream",
     "text": [
      "Epoch 35/300 took 31.66s | Train loss: 0.9226 | Val loss: 1.5937 | Val accuracy: 57.45% | EarlyStopper count: 4\n"
     ]
    },
    {
     "name": "stderr",
     "output_type": "stream",
     "text": [
      "Epoch 36/300: 100%|██████████████████████████████████████████████████████████████████████████████████████████████████████████████████| 49/49 [00:28<00:00,  1.72it/s, Training loss=0.8906]\n"
     ]
    },
    {
     "name": "stdout",
     "output_type": "stream",
     "text": [
      "Epoch 36/300 took 31.89s | Train loss: 0.8906 | Val loss: 1.7030 | Val accuracy: 57.35% | EarlyStopper count: 0\n"
     ]
    },
    {
     "name": "stderr",
     "output_type": "stream",
     "text": [
      "Epoch 37/300: 100%|██████████████████████████████████████████████████████████████████████████████████████████████████████████████████| 49/49 [00:28<00:00,  1.74it/s, Training loss=0.8390]\n"
     ]
    },
    {
     "name": "stdout",
     "output_type": "stream",
     "text": [
      "Epoch 37/300 took 31.70s | Train loss: 0.8390 | Val loss: 1.6991 | Val accuracy: 57.55% | EarlyStopper count: 1\n"
     ]
    },
    {
     "name": "stderr",
     "output_type": "stream",
     "text": [
      "Epoch 38/300: 100%|██████████████████████████████████████████████████████████████████████████████████████████████████████████████████| 49/49 [00:28<00:00,  1.74it/s, Training loss=0.7556]\n"
     ]
    },
    {
     "name": "stdout",
     "output_type": "stream",
     "text": [
      "Epoch 38/300 took 31.67s | Train loss: 0.7556 | Val loss: 1.7141 | Val accuracy: 57.84% | EarlyStopper count: 2\n"
     ]
    },
    {
     "name": "stderr",
     "output_type": "stream",
     "text": [
      "Epoch 39/300: 100%|██████████████████████████████████████████████████████████████████████████████████████████████████████████████████| 49/49 [00:28<00:00,  1.73it/s, Training loss=0.7178]\n"
     ]
    },
    {
     "name": "stdout",
     "output_type": "stream",
     "text": [
      "Epoch 39/300 took 31.72s | Train loss: 0.7178 | Val loss: 1.8898 | Val accuracy: 55.00% | EarlyStopper count: 3\n"
     ]
    },
    {
     "name": "stderr",
     "output_type": "stream",
     "text": [
      "Epoch 40/300: 100%|██████████████████████████████████████████████████████████████████████████████████████████████████████████████████| 49/49 [00:28<00:00,  1.74it/s, Training loss=2.0569]\n"
     ]
    },
    {
     "name": "stdout",
     "output_type": "stream",
     "text": [
      "Epoch 40/300 took 31.68s | Train loss: 2.0569 | Val loss: 2.0756 | Val accuracy: 49.41% | EarlyStopper count: 4\n"
     ]
    },
    {
     "name": "stderr",
     "output_type": "stream",
     "text": [
      "Epoch 41/300: 100%|██████████████████████████████████████████████████████████████████████████████████████████████████████████████████| 49/49 [00:28<00:00,  1.74it/s, Training loss=1.3859]\n"
     ]
    },
    {
     "name": "stdout",
     "output_type": "stream",
     "text": [
      "Epoch 41/300 took 31.67s | Train loss: 1.3859 | Val loss: 1.7139 | Val accuracy: 55.20% | EarlyStopper count: 5\n"
     ]
    },
    {
     "name": "stderr",
     "output_type": "stream",
     "text": [
      "Epoch 42/300: 100%|██████████████████████████████████████████████████████████████████████████████████████████████████████████████████| 49/49 [00:28<00:00,  1.73it/s, Training loss=1.4862]\n"
     ]
    },
    {
     "name": "stdout",
     "output_type": "stream",
     "text": [
      "Epoch 42/300 took 31.80s | Train loss: 1.4862 | Val loss: 2.0260 | Val accuracy: 47.65% | EarlyStopper count: 6\n"
     ]
    },
    {
     "name": "stderr",
     "output_type": "stream",
     "text": [
      "Epoch 43/300: 100%|██████████████████████████████████████████████████████████████████████████████████████████████████████████████████| 49/49 [00:28<00:00,  1.73it/s, Training loss=2.5469]\n"
     ]
    },
    {
     "name": "stdout",
     "output_type": "stream",
     "text": [
      "Epoch 43/300 took 31.81s | Train loss: 2.5469 | Val loss: 2.2964 | Val accuracy: 39.22% | EarlyStopper count: 7\n"
     ]
    },
    {
     "name": "stderr",
     "output_type": "stream",
     "text": [
      "Epoch 44/300: 100%|██████████████████████████████████████████████████████████████████████████████████████████████████████████████████| 49/49 [00:28<00:00,  1.74it/s, Training loss=1.9471]\n"
     ]
    },
    {
     "name": "stdout",
     "output_type": "stream",
     "text": [
      "Epoch 44/300 took 31.66s | Train loss: 1.9471 | Val loss: 2.3144 | Val accuracy: 39.51% | EarlyStopper count: 8\n"
     ]
    },
    {
     "name": "stderr",
     "output_type": "stream",
     "text": [
      "Epoch 45/300: 100%|██████████████████████████████████████████████████████████████████████████████████████████████████████████████████| 49/49 [00:28<00:00,  1.74it/s, Training loss=3.3520]\n"
     ]
    },
    {
     "name": "stdout",
     "output_type": "stream",
     "text": [
      "Epoch 45/300 took 31.70s | Train loss: 3.3520 | Val loss: 2.8749 | Val accuracy: 25.98% | EarlyStopper count: 9\n",
      "Early stopping\n"
     ]
    }
   ],
   "source": [
    "train_loss_list, val_loss_list, val_acc_list = train(model, train_dataloader, val_dataloader, optimiser, loss, device, epochs, early_stopper, device_path) # train model"
   ]
  },
  {
   "cell_type": "markdown",
   "metadata": {},
   "source": [
    "Plot train, test loss and test accuracy"
   ]
  },
  {
   "cell_type": "code",
   "execution_count": 6,
   "metadata": {},
   "outputs": [
    {
     "data": {
      "image/png": "[encoded data removed]",
      "text/plain": [
       "<Figure size 640x480 with 1 Axes>"
      ]
     },
     "metadata": {},
     "output_type": "display_data"
    },
    {
     "data": {
      "image/png": "[encoded data removed]",
      "text/plain": [
       "<Figure size 640x480 with 1 Axes>"
      ]
     },
     "metadata": {},
     "output_type": "display_data"
    }
   ],
   "source": [
    "# plot the graphs\n",
    "import matplotlib.pyplot as plt\n",
    "plt.plot(train_loss_list, label=\"train loss\")\n",
    "plt.plot(val_loss_list, label=\"val loss\")\n",
    "plt.xlabel(\"Epoch\")\n",
    "plt.ylabel(\"Loss\")\n",
    "plt.legend()\n",
    "plt.show()\n",
    "\n",
    "plt.plot(val_acc_list, label=\"val accuracy\")\n",
    "plt.xlabel(\"Epoch\")\n",
    "plt.ylabel(\"Accuracy\")\n",
    "plt.legend()\n",
    "plt.show()"
   ]
  }
 ],
 "metadata": {
  "kernelspec": {
   "display_name": "Python 3 (ipykernel)",
   "language": "python",
   "name": "python3"
  },
  "language_info": {
   "codemirror_mode": {
    "name": "ipython",
    "version": 3
   },
   "file_extension": ".py",
   "mimetype": "text/x-python",
   "name": "python",
   "nbconvert_exporter": "python",
   "pygments_lexer": "ipython3",
   "version": "3.11.4"
  }
 },
 "nbformat": 4,
 "nbformat_minor": 4
}
