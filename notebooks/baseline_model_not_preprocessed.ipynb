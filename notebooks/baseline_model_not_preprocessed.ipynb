{
 "cells": [
  {
   "cell_type": "markdown",
   "metadata": {},
   "source": [
    "#### This notebook trains our baseline model"
   ]
  },
  {
   "cell_type": "markdown",
   "metadata": {},
   "source": [
    "Imports"
   ]
  },
  {
   "cell_type": "code",
   "execution_count": null,
   "metadata": {},
   "outputs": [],
   "source": [
    "import os\n",
    "os.environ['PYTORCH_ENABLE_MPS_FALLBACK'] = '1'\n",
    "import torch\n",
    "from torch import nn\n",
    "import torchvision\n",
    "from torch.utils.data import DataLoader, default_collate\n",
    "from torchvision import datasets, transforms\n",
    "from torchvision.transforms.v2 import MixUp, CutMix\n",
    "os.chdir(\"../models\")\n",
    "from model import CustomCNN\n",
    "from common_utils import set_seed, EarlyStopper, train, get_mean_rgb, CustomTransform, CustomRegularizeTransform\n",
    "\n",
    "import matplotlib.pyplot as plt\n",
    "\n",
    "# set seed\n",
    "set_seed(42)"
   ]
  },
  {
   "cell_type": "markdown",
   "metadata": {},
   "source": [
    "Initialise model and dataset"
   ]
  },
  {
   "cell_type": "code",
   "execution_count": null,
   "metadata": {},
   "outputs": [],
   "source": [
    "model = CustomCNN(fcn_depth=3, fcn_width=[1024, 512]) # initialise model\n",
    "\n",
    "transform1 = transforms.Compose([\n",
    "    transforms.ToTensor(),\n",
    "    # transforms.Resize((100, 100), antialias=True),\n",
    "    transforms.ColorJitter(brightness=0.2, saturation=0.2),\n",
    "    transforms.RandomHorizontalFlip(0.5),\n",
    "    # most of the pictures are rotation invariant\n",
    "    # transforms.RandomRotation((-30, 30)),\n",
    "    transforms.RandomResizedCrop((100, 100), scale=(0.8, 1.0), antialias=True),\n",
    "])\n",
    "\n",
    "transform2 = transforms.Compose([\n",
    "    transforms.ToTensor(),\n",
    "    transforms.Resize((100, 100), antialias=True),\n",
    "])\n",
    "\n",
    "def mixup_collate_fn(batch):\n",
    "    return MixUp(num_classes=102)(*default_collate(batch))\n",
    "\n",
    "# load data\n",
    "train_dataset = datasets.Flowers102(root='../data', split='test', download=True, transform=transform1) \n",
    "val_dataset = datasets.Flowers102(root='../data', split='val', download=True, transform=transform2) \n",
    "test_dataset = datasets.Flowers102(root='../data', split='train', download=True, transform=transform2)\n",
    "# NOTE: Due to a bug with the Flowers102 dataset, the train and test splits are swapped\n",
    "\n",
    "batch_size = 128\n",
    "# initialise dataloaders\n",
    "train_dataloader = DataLoader(train_dataset, batch_size=batch_size, shuffle=True, collate_fn=mixup_collate_fn)\n",
    "val_dataloader = DataLoader(val_dataset, batch_size=batch_size, shuffle=False)\n",
    "test_dataloader = DataLoader(test_dataset, batch_size=batch_size, shuffle=False)"
   ]
  },
  {
   "cell_type": "markdown",
   "metadata": {},
   "source": [
    "Visualize the original images and their transformed version"
   ]
  },
  {
   "cell_type": "code",
   "execution_count": null,
   "metadata": {},
   "outputs": [],
   "source": [
    "from itertools import product\n",
    "\n",
    "train_dataset_ = datasets.Flowers102(root='../data', split='test', download=True, transform=transforms.ToTensor()) \n",
    "\n",
    "fig, axs = plt.subplots(4, 4, figsize=(20, 20))\n",
    "offset = 1000 # Changet this to get different images\n",
    "\n",
    "for i, j in product(range(4), range(2)):\n",
    "    axs[i][2*j].imshow(train_dataset_[i+j*offset][0].permute(1, 2, 0))\n",
    "    axs[i][2*j+1].imshow(train_dataset[i+j*offset][0].permute(1, 2, 0))"
   ]
  },
  {
   "cell_type": "markdown",
   "metadata": {},
   "source": [
    "Specify hyperparameters"
   ]
  },
  {
   "cell_type": "code",
   "execution_count": null,
   "metadata": {},
   "outputs": [],
   "source": [
    "lr = 0.001 # learning rate\n",
    "optimiser = torch.optim.Adam(model.parameters(), lr=lr) # initialise optimiser\n",
    "loss = torch.nn.CrossEntropyLoss() # initialise loss function\n",
    "\n",
    "if torch.cuda.is_available(): # nvidia gpu\n",
    "    device = torch.device(\"cuda\")\n",
    "elif torch.backends.mps.is_available(): # apple gpu\n",
    "    device = torch.device(\"mps\")\n",
    "else:\n",
    "    device = torch.device(\"cpu\")\n",
    "\n",
    "model.to(device)\n",
    "\n",
    "epochs = 300 # number of epochs\n",
    "early_stopper = EarlyStopper(patience=10) # initialise early stopper\n",
    "\n",
    "\n",
    "# Make directory to save baseline model\n",
    "baseline_model_path = \"./saved_models/baseline_model/non_preprocessed\"\n",
    "if not os.path.exists(baseline_model_path):\n",
    "    os.makedirs(baseline_model_path, exist_ok=True)\n",
    "\n",
    "# Define the device-specific path\n",
    "device_type = None\n",
    "if device == torch.device(\"cuda\"):\n",
    "    device_type = \"cuda\"\n",
    "elif device == torch.device(\"mps\"):\n",
    "    device_type = \"mps\"\n",
    "else:\n",
    "    device_type = \"cpu\"\n",
    "\n",
    "# Construct the full path\n",
    "device_path = os.path.join(baseline_model_path, device_type)\n",
    "\n",
    "# Create the directory if it doesn't exist\n",
    "if not os.path.exists(device_path):\n",
    "    os.mkdir(device_path)\n",
    "\n",
    "model"
   ]
  },
  {
   "cell_type": "markdown",
   "metadata": {},
   "source": [
    "Train the model"
   ]
  },
  {
   "cell_type": "code",
   "execution_count": null,
   "metadata": {
    "scrolled": true
   },
   "outputs": [],
   "source": [
    "train_loss_list, val_loss_list, val_acc_list = train(model, train_dataloader, val_dataloader, optimiser, loss, device, epochs, early_stopper, device_path) # train model"
   ]
  },
  {
   "cell_type": "markdown",
   "metadata": {},
   "source": [
    "Plot train, test loss and test accuracy"
   ]
  },
  {
   "cell_type": "code",
   "execution_count": null,
   "metadata": {},
   "outputs": [],
   "source": [
    "# plot the graphs\n",
    "import matplotlib.pyplot as plt\n",
    "plt.plot(train_loss_list, label=\"train loss\")\n",
    "plt.plot(val_loss_list, label=\"val loss\")\n",
    "plt.xlabel(\"Epoch\")\n",
    "plt.ylabel(\"Loss\")\n",
    "plt.legend()\n",
    "plt.show()\n",
    "\n",
    "plt.plot(val_acc_list, label=\"val accuracy\")\n",
    "plt.xlabel(\"Epoch\")\n",
    "plt.ylabel(\"Accuracy\")\n",
    "plt.legend()\n",
    "plt.show()"
   ]
  }
 ],
 "metadata": {
  "kernelspec": {
   "display_name": "Python 3 (ipykernel)",
   "language": "python",
   "name": "python3"
  },
  "language_info": {
   "codemirror_mode": {
    "name": "ipython",
    "version": 3
   },
   "file_extension": ".py",
   "mimetype": "text/x-python",
   "name": "python",
   "nbconvert_exporter": "python",
   "pygments_lexer": "ipython3",
   "version": "3.11.4"
  }
 },
 "nbformat": 4,
 "nbformat_minor": 4
}
