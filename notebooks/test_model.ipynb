{
 "cells": [
  {
   "cell_type": "markdown",
   "metadata": {},
   "source": [
    "### This notebook is a sanity check for our defined model"
   ]
  },
  {
   "cell_type": "markdown",
   "metadata": {},
   "source": [
    "Imports"
   ]
  },
  {
   "cell_type": "code",
   "execution_count": 1,
   "metadata": {},
   "outputs": [],
   "source": [
    "import torch\n",
    "import os\n",
    "os.chdir(\"../models\")\n",
    "from model import CustomCNN"
   ]
  },
  {
   "cell_type": "markdown",
   "metadata": {},
   "source": [
    "Check the model"
   ]
  },
  {
   "cell_type": "code",
   "execution_count": 2,
   "metadata": {
    "scrolled": true
   },
   "outputs": [
    {
     "name": "stdout",
     "output_type": "stream",
     "text": [
      "<bound method Module.parameters of CustomCNN(\n",
      "  (conv_stack): Sequential(\n",
      "    (0): BatchNorm2d(3, eps=1e-05, momentum=None, affine=True, track_running_stats=True)\n",
      "    (1): Conv2d(3, 3, kernel_size=(5, 5), stride=(1, 1), padding=(2, 2), groups=3)\n",
      "    (2): Conv2d(3, 64, kernel_size=(1, 1), stride=(1, 1))\n",
      "    (3): ReLU()\n",
      "    (4): LocalResponseNorm(5, alpha=0.0001, beta=0.75, k=2)\n",
      "    (5): MaxPool2d(kernel_size=3, stride=2, padding=0, dilation=1, ceil_mode=False)\n",
      "    (6): BatchNorm2d(64, eps=1e-05, momentum=0.05, affine=True, track_running_stats=True)\n",
      "    (7): Conv2d(64, 64, kernel_size=(5, 5), stride=(1, 1), padding=(2, 2), groups=64)\n",
      "    (8): Conv2d(64, 128, kernel_size=(1, 1), stride=(1, 1))\n",
      "    (9): ReLU()\n",
      "    (10): LocalResponseNorm(5, alpha=0.0001, beta=0.75, k=2)\n",
      "    (11): MaxPool2d(kernel_size=3, stride=2, padding=0, dilation=1, ceil_mode=False)\n",
      "    (12): BatchNorm2d(128, eps=1e-05, momentum=0.05, affine=True, track_running_stats=True)\n",
      "    (13): Conv2d(128, 128, kernel_size=(3, 3), stride=(1, 1), padding=(1, 1), groups=128)\n",
      "    (14): Conv2d(128, 256, kernel_size=(1, 1), stride=(1, 1))\n",
      "    (15): ReLU()\n",
      "    (16): MaxPool2d(kernel_size=3, stride=2, padding=0, dilation=1, ceil_mode=False)\n",
      "    (17): BatchNorm2d(256, eps=1e-05, momentum=0.05, affine=True, track_running_stats=True)\n",
      "    (18): Conv2d(256, 256, kernel_size=(3, 3), stride=(1, 1), padding=(1, 1), groups=256)\n",
      "    (19): Conv2d(256, 512, kernel_size=(1, 1), stride=(1, 1))\n",
      "    (20): ReLU()\n",
      "    (21): BatchNorm2d(512, eps=1e-05, momentum=0.05, affine=True, track_running_stats=True)\n",
      "    (22): Conv2d(512, 512, kernel_size=(3, 3), stride=(1, 1), padding=(1, 1), groups=512)\n",
      "    (23): Conv2d(512, 512, kernel_size=(1, 1), stride=(1, 1))\n",
      "    (24): ReLU()\n",
      "    (25): MaxPool2d(kernel_size=3, stride=2, padding=0, dilation=1, ceil_mode=False)\n",
      "  )\n",
      "  (fcn_stack): Sequential(\n",
      "    (0): Flatten(start_dim=1, end_dim=-1)\n",
      "    (1): BatchNorm1d(12800, eps=1e-05, momentum=0.05, affine=True, track_running_stats=True)\n",
      "    (2): Linear(in_features=12800, out_features=1024, bias=True)\n",
      "    (3): ReLU()\n",
      "    (4): Dropout(p=0.5, inplace=False)\n",
      "    (5): BatchNorm1d(1024, eps=1e-05, momentum=0.05, affine=True, track_running_stats=True)\n",
      "    (6): Linear(in_features=1024, out_features=512, bias=True)\n",
      "    (7): ReLU()\n",
      "    (8): Dropout(p=0.5, inplace=False)\n",
      "    (9): BatchNorm1d(512, eps=1e-05, momentum=0.05, affine=True, track_running_stats=True)\n",
      "    (10): Linear(in_features=512, out_features=102, bias=True)\n",
      "  )\n",
      ")>\n",
      "CustomCNN(\n",
      "  (conv_stack): Sequential(\n",
      "    (0): BatchNorm2d(3, eps=1e-05, momentum=None, affine=True, track_running_stats=True)\n",
      "    (1): Conv2d(3, 3, kernel_size=(5, 5), stride=(1, 1), padding=(2, 2), groups=3)\n",
      "    (2): Conv2d(3, 64, kernel_size=(1, 1), stride=(1, 1))\n",
      "    (3): ReLU()\n",
      "    (4): LocalResponseNorm(5, alpha=0.0001, beta=0.75, k=2)\n",
      "    (5): MaxPool2d(kernel_size=3, stride=2, padding=0, dilation=1, ceil_mode=False)\n",
      "    (6): BatchNorm2d(64, eps=1e-05, momentum=0.05, affine=True, track_running_stats=True)\n",
      "    (7): Conv2d(64, 64, kernel_size=(5, 5), stride=(1, 1), padding=(2, 2), groups=64)\n",
      "    (8): Conv2d(64, 128, kernel_size=(1, 1), stride=(1, 1))\n",
      "    (9): ReLU()\n",
      "    (10): LocalResponseNorm(5, alpha=0.0001, beta=0.75, k=2)\n",
      "    (11): MaxPool2d(kernel_size=3, stride=2, padding=0, dilation=1, ceil_mode=False)\n",
      "    (12): BatchNorm2d(128, eps=1e-05, momentum=0.05, affine=True, track_running_stats=True)\n",
      "    (13): Conv2d(128, 128, kernel_size=(3, 3), stride=(1, 1), padding=(1, 1), groups=128)\n",
      "    (14): Conv2d(128, 256, kernel_size=(1, 1), stride=(1, 1))\n",
      "    (15): ReLU()\n",
      "    (16): MaxPool2d(kernel_size=3, stride=2, padding=0, dilation=1, ceil_mode=False)\n",
      "    (17): BatchNorm2d(256, eps=1e-05, momentum=0.05, affine=True, track_running_stats=True)\n",
      "    (18): Conv2d(256, 256, kernel_size=(3, 3), stride=(1, 1), padding=(1, 1), groups=256)\n",
      "    (19): Conv2d(256, 512, kernel_size=(1, 1), stride=(1, 1))\n",
      "    (20): ReLU()\n",
      "    (21): BatchNorm2d(512, eps=1e-05, momentum=0.05, affine=True, track_running_stats=True)\n",
      "    (22): Conv2d(512, 512, kernel_size=(3, 3), stride=(1, 1), padding=(1, 1), groups=512)\n",
      "    (23): Conv2d(512, 512, kernel_size=(1, 1), stride=(1, 1))\n",
      "    (24): ReLU()\n",
      "    (25): MaxPool2d(kernel_size=3, stride=2, padding=0, dilation=1, ceil_mode=False)\n",
      "  )\n",
      "  (fcn_stack): Sequential(\n",
      "    (0): Flatten(start_dim=1, end_dim=-1)\n",
      "    (1): BatchNorm1d(12800, eps=1e-05, momentum=0.05, affine=True, track_running_stats=True)\n",
      "    (2): Linear(in_features=12800, out_features=1024, bias=True)\n",
      "    (3): ReLU()\n",
      "    (4): Dropout(p=0.5, inplace=False)\n",
      "    (5): BatchNorm1d(1024, eps=1e-05, momentum=0.05, affine=True, track_running_stats=True)\n",
      "    (6): Linear(in_features=1024, out_features=512, bias=True)\n",
      "    (7): ReLU()\n",
      "    (8): Dropout(p=0.5, inplace=False)\n",
      "    (9): BatchNorm1d(512, eps=1e-05, momentum=0.05, affine=True, track_running_stats=True)\n",
      "    (10): Linear(in_features=512, out_features=102, bias=True)\n",
      "  )\n",
      ")\n"
     ]
    }
   ],
   "source": [
    "model = CustomCNN()\n",
    "print(model.parameters)\n",
    "print(model)"
   ]
  },
  {
   "cell_type": "markdown",
   "metadata": {},
   "source": [
    "Try altering the parameters of the fully connected part (Depth and width)"
   ]
  },
  {
   "cell_type": "code",
   "execution_count": 3,
   "metadata": {},
   "outputs": [
    {
     "name": "stdout",
     "output_type": "stream",
     "text": [
      "CustomCNN(\n",
      "  (conv_stack): Sequential(\n",
      "    (0): BatchNorm2d(3, eps=1e-05, momentum=None, affine=True, track_running_stats=True)\n",
      "    (1): Conv2d(3, 3, kernel_size=(5, 5), stride=(1, 1), padding=(2, 2), groups=3)\n",
      "    (2): Conv2d(3, 64, kernel_size=(1, 1), stride=(1, 1))\n",
      "    (3): ReLU()\n",
      "    (4): LocalResponseNorm(5, alpha=0.0001, beta=0.75, k=2)\n",
      "    (5): MaxPool2d(kernel_size=3, stride=2, padding=0, dilation=1, ceil_mode=False)\n",
      "    (6): BatchNorm2d(64, eps=1e-05, momentum=0.05, affine=True, track_running_stats=True)\n",
      "    (7): Conv2d(64, 64, kernel_size=(5, 5), stride=(1, 1), padding=(2, 2), groups=64)\n",
      "    (8): Conv2d(64, 128, kernel_size=(1, 1), stride=(1, 1))\n",
      "    (9): ReLU()\n",
      "    (10): LocalResponseNorm(5, alpha=0.0001, beta=0.75, k=2)\n",
      "    (11): MaxPool2d(kernel_size=3, stride=2, padding=0, dilation=1, ceil_mode=False)\n",
      "    (12): BatchNorm2d(128, eps=1e-05, momentum=0.05, affine=True, track_running_stats=True)\n",
      "    (13): Conv2d(128, 128, kernel_size=(3, 3), stride=(1, 1), padding=(1, 1), groups=128)\n",
      "    (14): Conv2d(128, 256, kernel_size=(1, 1), stride=(1, 1))\n",
      "    (15): ReLU()\n",
      "    (16): MaxPool2d(kernel_size=3, stride=2, padding=0, dilation=1, ceil_mode=False)\n",
      "    (17): BatchNorm2d(256, eps=1e-05, momentum=0.05, affine=True, track_running_stats=True)\n",
      "    (18): Conv2d(256, 256, kernel_size=(3, 3), stride=(1, 1), padding=(1, 1), groups=256)\n",
      "    (19): Conv2d(256, 512, kernel_size=(1, 1), stride=(1, 1))\n",
      "    (20): ReLU()\n",
      "    (21): BatchNorm2d(512, eps=1e-05, momentum=0.05, affine=True, track_running_stats=True)\n",
      "    (22): Conv2d(512, 512, kernel_size=(3, 3), stride=(1, 1), padding=(1, 1), groups=512)\n",
      "    (23): Conv2d(512, 512, kernel_size=(1, 1), stride=(1, 1))\n",
      "    (24): ReLU()\n",
      "    (25): MaxPool2d(kernel_size=3, stride=2, padding=0, dilation=1, ceil_mode=False)\n",
      "  )\n",
      "  (fcn_stack): Sequential(\n",
      "    (0): Flatten(start_dim=1, end_dim=-1)\n",
      "    (1): BatchNorm1d(12800, eps=1e-05, momentum=0.05, affine=True, track_running_stats=True)\n",
      "    (2): Linear(in_features=12800, out_features=32, bias=True)\n",
      "    (3): ReLU()\n",
      "    (4): Dropout(p=0.5, inplace=False)\n",
      "    (5): BatchNorm1d(32, eps=1e-05, momentum=0.05, affine=True, track_running_stats=True)\n",
      "    (6): Linear(in_features=32, out_features=64, bias=True)\n",
      "    (7): ReLU()\n",
      "    (8): Dropout(p=0.5, inplace=False)\n",
      "    (9): BatchNorm1d(64, eps=1e-05, momentum=0.05, affine=True, track_running_stats=True)\n",
      "    (10): Linear(in_features=64, out_features=128, bias=True)\n",
      "    (11): ReLU()\n",
      "    (12): Dropout(p=0.5, inplace=False)\n",
      "    (13): BatchNorm1d(128, eps=1e-05, momentum=0.05, affine=True, track_running_stats=True)\n",
      "    (14): Linear(in_features=128, out_features=256, bias=True)\n",
      "    (15): ReLU()\n",
      "    (16): Dropout(p=0.5, inplace=False)\n",
      "    (17): BatchNorm1d(256, eps=1e-05, momentum=0.05, affine=True, track_running_stats=True)\n",
      "    (18): Linear(in_features=256, out_features=512, bias=True)\n",
      "    (19): ReLU()\n",
      "    (20): Dropout(p=0.5, inplace=False)\n",
      "    (21): BatchNorm1d(512, eps=1e-05, momentum=0.05, affine=True, track_running_stats=True)\n",
      "    (22): Linear(in_features=512, out_features=1024, bias=True)\n",
      "    (23): ReLU()\n",
      "    (24): Dropout(p=0.5, inplace=False)\n",
      "    (25): BatchNorm1d(1024, eps=1e-05, momentum=0.05, affine=True, track_running_stats=True)\n",
      "    (26): Linear(in_features=1024, out_features=2048, bias=True)\n",
      "    (27): ReLU()\n",
      "    (28): Dropout(p=0.5, inplace=False)\n",
      "    (29): BatchNorm1d(2048, eps=1e-05, momentum=0.05, affine=True, track_running_stats=True)\n",
      "    (30): Linear(in_features=2048, out_features=4096, bias=True)\n",
      "    (31): ReLU()\n",
      "    (32): Dropout(p=0.5, inplace=False)\n",
      "    (33): BatchNorm1d(4096, eps=1e-05, momentum=0.05, affine=True, track_running_stats=True)\n",
      "    (34): Linear(in_features=4096, out_features=8192, bias=True)\n",
      "    (35): ReLU()\n",
      "    (36): Dropout(p=0.5, inplace=False)\n",
      "    (37): BatchNorm1d(8192, eps=1e-05, momentum=0.05, affine=True, track_running_stats=True)\n",
      "    (38): Linear(in_features=8192, out_features=102, bias=True)\n",
      "  )\n",
      ")\n"
     ]
    }
   ],
   "source": [
    "depth = 10\n",
    "width = [32, 64, 128, 256, 512, 1024, 2048, 4096, 8192] # must be length depth - 1 since output layer is fixed to 102 classes to match dataset\n",
    "\n",
    "model = CustomCNN(fcn_depth=depth, fcn_width=width)\n",
    "print(model)"
   ]
  }
 ],
 "metadata": {
  "kernelspec": {
   "display_name": "Python 3 (ipykernel)",
   "language": "python",
   "name": "python3"
  },
  "language_info": {
   "codemirror_mode": {
    "name": "ipython",
    "version": 3
   },
   "file_extension": ".py",
   "mimetype": "text/x-python",
   "name": "python",
   "nbconvert_exporter": "python",
   "pygments_lexer": "ipython3",
   "version": "3.11.4"
  }
 },
 "nbformat": 4,
 "nbformat_minor": 4
}
