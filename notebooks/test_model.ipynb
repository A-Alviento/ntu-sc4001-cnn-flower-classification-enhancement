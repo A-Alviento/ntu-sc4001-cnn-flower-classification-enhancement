{
 "cells": [
  {
   "cell_type": "markdown",
   "metadata": {},
   "source": [
    "### This notebook is a sanity check for our defined model"
   ]
  },
  {
   "cell_type": "markdown",
   "metadata": {},
   "source": [
    "Imports"
   ]
  },
  {
   "cell_type": "code",
   "execution_count": 1,
   "metadata": {},
   "outputs": [],
   "source": [
    "import torch\n",
    "import os\n",
    "os.chdir(\"../models\")\n",
    "from model import CustomCNN"
   ]
  },
  {
   "cell_type": "markdown",
   "metadata": {},
   "source": [
    "Check the model"
   ]
  },
  {
   "cell_type": "code",
   "execution_count": 2,
   "metadata": {},
   "outputs": [
    {
     "name": "stdout",
     "output_type": "stream",
     "text": [
      "CustomCNN(\n",
      "  (conv1): Conv2d(3, 64, kernel_size=(5, 5), stride=(1, 1), padding=(2, 2))\n",
      "  (conv2): Conv2d(64, 128, kernel_size=(5, 5), stride=(1, 1), padding=(2, 2))\n",
      "  (conv3): Conv2d(128, 256, kernel_size=(3, 3), stride=(1, 1), padding=(1, 1))\n",
      "  (conv4): Conv2d(256, 512, kernel_size=(3, 3), stride=(1, 1), padding=(1, 1))\n",
      "  (conv5): Conv2d(512, 512, kernel_size=(3, 3), stride=(1, 1), padding=(1, 1))\n",
      "  (flatten): Flatten(start_dim=1, end_dim=-1)\n",
      "  (fcs): ModuleList(\n",
      "    (0): Linear(in_features=12800, out_features=1024, bias=True)\n",
      "    (1): Linear(in_features=1024, out_features=512, bias=True)\n",
      "  )\n",
      "  (fc_final): Linear(in_features=512, out_features=102, bias=True)\n",
      "  (dropout): Dropout(p=0.5, inplace=False)\n",
      "  (lrn): LocalResponseNorm(5, alpha=0.0001, beta=0.75, k=2)\n",
      ")\n"
     ]
    }
   ],
   "source": [
    "model = CustomCNN()\n",
    "print(model)"
   ]
  },
  {
   "cell_type": "markdown",
   "metadata": {},
   "source": [
    "Try altering the parameters of the fully connected part (Depth and width)"
   ]
  },
  {
   "cell_type": "code",
   "execution_count": 3,
   "metadata": {},
   "outputs": [
    {
     "name": "stdout",
     "output_type": "stream",
     "text": [
      "CustomCNN(\n",
      "  (conv1): Conv2d(3, 64, kernel_size=(5, 5), stride=(1, 1), padding=(2, 2))\n",
      "  (conv2): Conv2d(64, 128, kernel_size=(5, 5), stride=(1, 1), padding=(2, 2))\n",
      "  (conv3): Conv2d(128, 256, kernel_size=(3, 3), stride=(1, 1), padding=(1, 1))\n",
      "  (conv4): Conv2d(256, 512, kernel_size=(3, 3), stride=(1, 1), padding=(1, 1))\n",
      "  (conv5): Conv2d(512, 512, kernel_size=(3, 3), stride=(1, 1), padding=(1, 1))\n",
      "  (flatten): Flatten(start_dim=1, end_dim=-1)\n",
      "  (fcs): ModuleList(\n",
      "    (0): Linear(in_features=12800, out_features=32, bias=True)\n",
      "    (1): Linear(in_features=32, out_features=64, bias=True)\n",
      "    (2): Linear(in_features=64, out_features=128, bias=True)\n",
      "    (3): Linear(in_features=128, out_features=256, bias=True)\n",
      "    (4): Linear(in_features=256, out_features=512, bias=True)\n",
      "    (5): Linear(in_features=512, out_features=1024, bias=True)\n",
      "    (6): Linear(in_features=1024, out_features=2048, bias=True)\n",
      "    (7): Linear(in_features=2048, out_features=4096, bias=True)\n",
      "    (8): Linear(in_features=4096, out_features=8192, bias=True)\n",
      "  )\n",
      "  (fc_final): Linear(in_features=8192, out_features=102, bias=True)\n",
      "  (dropout): Dropout(p=0.5, inplace=False)\n",
      "  (lrn): LocalResponseNorm(5, alpha=0.0001, beta=0.75, k=2)\n",
      ")\n"
     ]
    }
   ],
   "source": [
    "depth = 10\n",
    "width = [32, 64, 128, 256, 512, 1024, 2048, 4096, 8192] # must be length depth - 1 since output layer is fixed to 102 classes to match dataset\n",
    "\n",
    "model = CustomCNN(fcn_depth=depth, fcn_width=width)\n",
    "print(model)"
   ]
  }
 ],
 "metadata": {
  "kernelspec": {
   "display_name": "sc4001",
   "language": "python",
   "name": "python3"
  },
  "language_info": {
   "codemirror_mode": {
    "name": "ipython",
    "version": 3
   },
   "file_extension": ".py",
   "mimetype": "text/x-python",
   "name": "python",
   "nbconvert_exporter": "python",
   "pygments_lexer": "ipython3",
   "version": "3.8.18"
  },
  "orig_nbformat": 4
 },
 "nbformat": 4,
 "nbformat_minor": 2
}
