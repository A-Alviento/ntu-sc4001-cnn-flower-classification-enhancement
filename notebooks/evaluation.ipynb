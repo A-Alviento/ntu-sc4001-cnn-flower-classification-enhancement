{
 "cells": [
  {
   "cell_type": "code",
   "execution_count": 1,
   "metadata": {},
   "outputs": [],
   "source": [
    "import torch\n",
    "import torch as F\n",
    "import torch.nn as nn\n",
    "from torch.utils.data import DataLoader\n",
    "from torchvision import transforms\n",
    "from torchvision import datasets\n",
    "import matplotlib.pyplot as plt\n",
    "import numpy as np\n",
    "import cv2\n",
    "\n",
    "import os\n",
    "os.chdir(\"../models\")\n",
    "from common_utils import *\n",
    "from model import *\n",
    "\n",
    "# set seed\n",
    "set_seed(42)"
   ]
  },
  {
   "cell_type": "markdown",
   "metadata": {},
   "source": [
    "load test dataset"
   ]
  },
  {
   "cell_type": "code",
   "execution_count": 2,
   "metadata": {},
   "outputs": [],
   "source": [
    "transform2 = transforms.Compose([\n",
    "    transforms.ToTensor(),\n",
    "    transforms.Resize((100, 100), antialias=True),\n",
    "]) # apply basic image transformations on test data\n",
    "\n",
    "\n",
    "# load data\n",
    "test_dataset = datasets.Flowers102(root='../data', split='train', download=True, transform=transform2)\n",
    "\n",
    "# define dataloader to load single image\n",
    "dataloader = DataLoader(dataset=test_dataset, shuffle=False, batch_size=1)"
   ]
  },
  {
   "cell_type": "markdown",
   "metadata": {},
   "source": [
    "load final model"
   ]
  },
  {
   "cell_type": "code",
   "execution_count": 3,
   "metadata": {},
   "outputs": [
    {
     "data": {
      "text/plain": [
       "DepthPointWiseCNN(\n",
       "  (conv_stack): Sequential(\n",
       "    (0): BatchNorm2d(3, eps=1e-05, momentum=None, affine=True, track_running_stats=True)\n",
       "    (1): Conv2d(3, 3, kernel_size=(5, 5), stride=(1, 1), padding=(2, 2), groups=3)\n",
       "    (2): Conv2d(3, 64, kernel_size=(1, 1), stride=(1, 1))\n",
       "    (3): ReLU()\n",
       "    (4): LocalResponseNorm(5, alpha=0.0001, beta=0.75, k=2)\n",
       "    (5): MaxPool2d(kernel_size=3, stride=2, padding=0, dilation=1, ceil_mode=False)\n",
       "    (6): BatchNorm2d(64, eps=1e-05, momentum=0.05, affine=True, track_running_stats=True)\n",
       "    (7): Conv2d(64, 64, kernel_size=(5, 5), stride=(1, 1), padding=(2, 2), groups=64)\n",
       "    (8): Conv2d(64, 128, kernel_size=(1, 1), stride=(1, 1))\n",
       "    (9): ReLU()\n",
       "    (10): LocalResponseNorm(5, alpha=0.0001, beta=0.75, k=2)\n",
       "    (11): MaxPool2d(kernel_size=3, stride=2, padding=0, dilation=1, ceil_mode=False)\n",
       "    (12): BatchNorm2d(128, eps=1e-05, momentum=0.05, affine=True, track_running_stats=True)\n",
       "    (13): Conv2d(128, 128, kernel_size=(3, 3), stride=(1, 1), padding=(1, 1), groups=128)\n",
       "    (14): Conv2d(128, 256, kernel_size=(1, 1), stride=(1, 1))\n",
       "    (15): ReLU()\n",
       "    (16): MaxPool2d(kernel_size=3, stride=2, padding=0, dilation=1, ceil_mode=False)\n",
       "    (17): BatchNorm2d(256, eps=1e-05, momentum=0.05, affine=True, track_running_stats=True)\n",
       "    (18): Conv2d(256, 256, kernel_size=(3, 3), stride=(1, 1), padding=(1, 1), groups=256)\n",
       "    (19): Conv2d(256, 512, kernel_size=(1, 1), stride=(1, 1))\n",
       "    (20): ReLU()\n",
       "    (21): BatchNorm2d(512, eps=1e-05, momentum=0.05, affine=True, track_running_stats=True)\n",
       "    (22): Conv2d(512, 512, kernel_size=(3, 3), stride=(1, 1), padding=(1, 1), groups=512)\n",
       "    (23): Conv2d(512, 512, kernel_size=(1, 1), stride=(1, 1))\n",
       "    (24): ReLU()\n",
       "    (25): MaxPool2d(kernel_size=3, stride=2, padding=0, dilation=1, ceil_mode=False)\n",
       "  )\n",
       "  (fcn_stack): Sequential(\n",
       "    (0): Flatten(start_dim=1, end_dim=-1)\n",
       "    (1): Linear(in_features=12800, out_features=1024, bias=True)\n",
       "    (2): ReLU()\n",
       "    (3): Dropout(p=0.5, inplace=False)\n",
       "    (4): Linear(in_features=1024, out_features=512, bias=True)\n",
       "    (5): ReLU()\n",
       "    (6): Dropout(p=0.5, inplace=False)\n",
       "    (7): BatchNorm1d(512, eps=1e-05, momentum=0.05, affine=True, track_running_stats=True)\n",
       "    (8): Linear(in_features=512, out_features=102, bias=True)\n",
       "  )\n",
       ")"
      ]
     },
     "execution_count": 3,
     "metadata": {},
     "output_type": "execute_result"
    }
   ],
   "source": [
    "model = DepthPointWiseCNN()\n",
    "model_path = 'saved_models/FinalModel/cuda/best_model.pt'\n",
    "# determine device type\n",
    "device = torch.device('cuda' if torch.cuda.is_available() else 'cpu')\n",
    "\n",
    "model.load_state_dict(torch.load(model_path, map_location=device))\n",
    "model.to(device)"
   ]
  },
  {
   "cell_type": "markdown",
   "metadata": {},
   "source": [
    "Evaluate final model"
   ]
  },
  {
   "cell_type": "code",
   "execution_count": 36,
   "metadata": {},
   "outputs": [
    {
     "name": "stdout",
     "output_type": "stream",
     "text": [
      "Accuracy:  0.7637254901960784\n",
      "F1 score:  0.7543372395523346\n",
      "Top-5 accuracy:  0.9205882352941176\n"
     ]
    }
   ],
   "source": [
    "logits = test_model(model, dataloader, None, device)\n",
    "\n",
    "predicted_labels = []\n",
    "# get the predicted class for each logits\n",
    "for i in range(len(logits)):\n",
    "    predicted_labels.append(np.argmax(logits[i]))\n",
    "\n",
    "# convert to tensor elements to integers\n",
    "for i in range(len(logits)):\n",
    "    predicted_labels[i] = int(predicted_labels[i])\n",
    "\n",
    "# get the true class for each image\n",
    "true_labels = []\n",
    "for i in range(len(test_dataset)):\n",
    "    true_labels.append(test_dataset[i][1])\n",
    "\n",
    "# calculate accuracy\n",
    "acc = 0\n",
    "for i in range(len(predicted_labels)):\n",
    "    if predicted_labels[i] == true_labels[i]:\n",
    "        acc += 1\n",
    "acc /= len(predicted_labels)\n",
    "print(\"Accuracy: \", acc)\n",
    "\n",
    "# calculate F1 score\n",
    "from sklearn.metrics import f1_score\n",
    "f1 = f1_score(true_labels, predicted_labels, average='macro')\n",
    "print(\"F1 score: \", f1)\n",
    "\n",
    "# calculate top-5 accuracy\n",
    "top5 = 0\n",
    "for i in range(len(logits)):\n",
    "    if true_labels[i] in np.argsort(logits[i])[-5:]:\n",
    "        top5 += 1\n",
    "top5 /= len(logits)\n",
    "print(\"Top-5 accuracy: \", top5)\n"
   ]
  },
  {
   "cell_type": "markdown",
   "metadata": {},
   "source": [
    "Load baseline model"
   ]
  },
  {
   "cell_type": "code",
   "execution_count": 38,
   "metadata": {},
   "outputs": [
    {
     "data": {
      "text/plain": [
       "BaselineCNN(\n",
       "  (conv_stack): Sequential(\n",
       "    (0): Conv2d(3, 64, kernel_size=(5, 5), stride=(1, 1), padding=(2, 2))\n",
       "    (1): ReLU()\n",
       "    (2): LocalResponseNorm(5, alpha=0.0001, beta=0.75, k=2)\n",
       "    (3): MaxPool2d(kernel_size=3, stride=2, padding=0, dilation=1, ceil_mode=False)\n",
       "    (4): Conv2d(64, 128, kernel_size=(5, 5), stride=(1, 1), padding=(2, 2))\n",
       "    (5): ReLU()\n",
       "    (6): LocalResponseNorm(5, alpha=0.0001, beta=0.75, k=2)\n",
       "    (7): MaxPool2d(kernel_size=3, stride=2, padding=0, dilation=1, ceil_mode=False)\n",
       "    (8): Conv2d(128, 256, kernel_size=(3, 3), stride=(1, 1), padding=(1, 1))\n",
       "    (9): ReLU()\n",
       "    (10): MaxPool2d(kernel_size=3, stride=2, padding=0, dilation=1, ceil_mode=False)\n",
       "    (11): Conv2d(256, 512, kernel_size=(3, 3), stride=(1, 1), padding=(1, 1))\n",
       "    (12): ReLU()\n",
       "    (13): Conv2d(512, 512, kernel_size=(3, 3), stride=(1, 1), padding=(1, 1))\n",
       "    (14): ReLU()\n",
       "    (15): MaxPool2d(kernel_size=3, stride=2, padding=0, dilation=1, ceil_mode=False)\n",
       "  )\n",
       "  (fcn_stack): Sequential(\n",
       "    (0): Flatten(start_dim=1, end_dim=-1)\n",
       "    (1): Linear(in_features=12800, out_features=1024, bias=True)\n",
       "    (2): ReLU()\n",
       "    (3): Dropout(p=0.5, inplace=False)\n",
       "    (4): Linear(in_features=1024, out_features=512, bias=True)\n",
       "    (5): ReLU()\n",
       "    (6): Dropout(p=0.5, inplace=False)\n",
       "    (7): Linear(in_features=512, out_features=102, bias=True)\n",
       "  )\n",
       ")"
      ]
     },
     "execution_count": 38,
     "metadata": {},
     "output_type": "execute_result"
    }
   ],
   "source": [
    "model = BaselineCNN()\n",
    "model_path = 'saved_models/BaselineCNN/cuda/best_model.pt'\n",
    "# determine device type\n",
    "device = torch.device('cuda' if torch.cuda.is_available() else 'cpu')\n",
    "\n",
    "model.load_state_dict(torch.load(model_path, map_location=device))\n",
    "model.to(device)"
   ]
  },
  {
   "cell_type": "markdown",
   "metadata": {},
   "source": [
    "Evaluate final model"
   ]
  },
  {
   "cell_type": "code",
   "execution_count": 39,
   "metadata": {},
   "outputs": [
    {
     "name": "stdout",
     "output_type": "stream",
     "text": [
      "Accuracy:  0.1892156862745098\n",
      "F1 score:  0.1725621325260018\n",
      "Top-5 accuracy:  0.4588235294117647\n"
     ]
    }
   ],
   "source": [
    "logits = test_model(model, dataloader, None, device)\n",
    "\n",
    "predicted_labels = []\n",
    "# get the predicted class for each logits\n",
    "for i in range(len(logits)):\n",
    "    predicted_labels.append(np.argmax(logits[i]))\n",
    "\n",
    "# convert to tensor elements to integers\n",
    "for i in range(len(logits)):\n",
    "    predicted_labels[i] = int(predicted_labels[i])\n",
    "\n",
    "# get the true class for each image\n",
    "true_labels = []\n",
    "for i in range(len(test_dataset)):\n",
    "    true_labels.append(test_dataset[i][1])\n",
    "\n",
    "# calculate accuracy\n",
    "acc = 0\n",
    "for i in range(len(predicted_labels)):\n",
    "    if predicted_labels[i] == true_labels[i]:\n",
    "        acc += 1\n",
    "acc /= len(predicted_labels)\n",
    "print(\"Accuracy: \", acc)\n",
    "\n",
    "# calculate F1 score\n",
    "from sklearn.metrics import f1_score\n",
    "f1 = f1_score(true_labels, predicted_labels, average='macro')\n",
    "print(\"F1 score: \", f1)\n",
    "\n",
    "# calculate top-5 accuracy\n",
    "top5 = 0\n",
    "for i in range(len(logits)):\n",
    "    if true_labels[i] in np.argsort(logits[i])[-5:]:\n",
    "        top5 += 1\n",
    "top5 /= len(logits)\n",
    "print(\"Top-5 accuracy: \", top5)\n"
   ]
  }
 ],
 "metadata": {
  "language_info": {
   "name": "python"
  },
  "orig_nbformat": 4
 },
 "nbformat": 4,
 "nbformat_minor": 2
}
